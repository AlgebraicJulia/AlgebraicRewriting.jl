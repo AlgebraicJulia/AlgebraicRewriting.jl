{
 "cells": [
  {
   "cell_type": "markdown",
   "source": [
    "# Slice Bread"
   ],
   "metadata": {}
  },
  {
   "outputs": [],
   "cell_type": "code",
   "source": [
    "using PrettyTables\n",
    "\n",
    "using Catlab\n",
    "using AlgebraicRewriting"
   ],
   "metadata": {},
   "execution_count": 1
  },
  {
   "cell_type": "markdown",
   "source": [
    "Create an ontology by defining a finite presentation of a freely generated category using @present macro\n",
    "\n",
    "About the world: The Bread World Ontology has the types Thing, BreadLoaf, Countertop, and Stool. The Breadloaf, Countertop, and Stool types have morphisms to Thing that represent is-a relationships. The InOn type can be used to encode a set relation (as opposed to a function) that was two morphisms going to Thing. One morphism points out the LHS of the relation and the other morphism point out the RHS of the relation."
   ],
   "metadata": {}
  },
  {
   "outputs": [
    {
     "output_type": "execute_result",
     "data": {
      "text/plain": "GATlab.Models.Presentations.Presentation{Catlab.Theories.ThSchema.Meta.T, Symbol}(Catlab.Theories.FreeSchema, (Ob = Catlab.Theories.FreeSchema.Ob{:generator}[Thing, BreadLoaf, Countertop, Stool, InOn], Hom = Catlab.Theories.FreeSchema.Hom{:generator}[BreadLoafIsThing, CountertopIsThing, StoolIsThing, inOn_l, inOn_r], AttrType = Catlab.Theories.FreeSchema.AttrType{:generator}[], Attr = Catlab.Theories.FreeSchema.Attr{:generator}[]), Dict(:inOn_r => (:Hom => 5), :CountertopIsThing => (:Hom => 2), :Countertop => (:Ob => 3), :BreadLoaf => (:Ob => 2), :Thing => (:Ob => 1), :BreadLoafIsThing => (:Hom => 1), :StoolIsThing => (:Hom => 3), :InOn => (:Ob => 5), :inOn_l => (:Hom => 4), :Stool => (:Ob => 4)…), Pair[])"
     },
     "metadata": {},
     "execution_count": 2
    }
   ],
   "cell_type": "code",
   "source": [
    "@present OntBreadWorld(FreeSchema) begin\n",
    "  Thing::Ob\n",
    "  BreadLoaf::Ob\n",
    "  Countertop::Ob\n",
    "  Stool::Ob\n",
    "\n",
    "  BreadLoafIsThing::Hom(BreadLoaf, Thing)  # is-a\n",
    "  CountertopIsThing::Hom(Countertop, Thing)  # is-a\n",
    "  StoolIsThing::Hom(Stool, Thing)  # is-a\n",
    "\n",
    "  InOn::Ob\n",
    "  inOn_l::Hom(InOn, Thing)\n",
    "  inOn_r::Hom(InOn, Thing)\n",
    "end"
   ],
   "metadata": {},
   "execution_count": 2
  },
  {
   "cell_type": "markdown",
   "source": [
    "Visualize the ontology"
   ],
   "metadata": {}
  },
  {
   "outputs": [
    {
     "output_type": "execute_result",
     "data": {
      "text/plain": "Catlab.Graphics.Graphviz.Graph(\"G\", true, \"neato\", Catlab.Graphics.Graphviz.Statement[Catlab.Graphics.Graphviz.Node(\"n1\", OrderedCollections.OrderedDict{Symbol, Union{String, Catlab.Graphics.Graphviz.Html}}(:label => \"Thing\")), Catlab.Graphics.Graphviz.Node(\"n2\", OrderedCollections.OrderedDict{Symbol, Union{String, Catlab.Graphics.Graphviz.Html}}(:label => \"BreadLoaf\")), Catlab.Graphics.Graphviz.Node(\"n3\", OrderedCollections.OrderedDict{Symbol, Union{String, Catlab.Graphics.Graphviz.Html}}(:label => \"Countertop\")), Catlab.Graphics.Graphviz.Node(\"n4\", OrderedCollections.OrderedDict{Symbol, Union{String, Catlab.Graphics.Graphviz.Html}}(:label => \"Stool\")), Catlab.Graphics.Graphviz.Node(\"n5\", OrderedCollections.OrderedDict{Symbol, Union{String, Catlab.Graphics.Graphviz.Html}}(:label => \"InOn\")), Catlab.Graphics.Graphviz.Edge(Catlab.Graphics.Graphviz.NodeID[Catlab.Graphics.Graphviz.NodeID(\"n2\", \"\", \"\"), Catlab.Graphics.Graphviz.NodeID(\"n1\", \"\", \"\")], OrderedCollections.OrderedDict{Symbol, Union{String, Catlab.Graphics.Graphviz.Html}}(:label => \"BreadLoafIsThing\")), Catlab.Graphics.Graphviz.Edge(Catlab.Graphics.Graphviz.NodeID[Catlab.Graphics.Graphviz.NodeID(\"n3\", \"\", \"\"), Catlab.Graphics.Graphviz.NodeID(\"n1\", \"\", \"\")], OrderedCollections.OrderedDict{Symbol, Union{String, Catlab.Graphics.Graphviz.Html}}(:label => \"CountertopIsThing\")), Catlab.Graphics.Graphviz.Edge(Catlab.Graphics.Graphviz.NodeID[Catlab.Graphics.Graphviz.NodeID(\"n4\", \"\", \"\"), Catlab.Graphics.Graphviz.NodeID(\"n1\", \"\", \"\")], OrderedCollections.OrderedDict{Symbol, Union{String, Catlab.Graphics.Graphviz.Html}}(:label => \"StoolIsThing\")), Catlab.Graphics.Graphviz.Edge(Catlab.Graphics.Graphviz.NodeID[Catlab.Graphics.Graphviz.NodeID(\"n5\", \"\", \"\"), Catlab.Graphics.Graphviz.NodeID(\"n1\", \"\", \"\")], OrderedCollections.OrderedDict{Symbol, Union{String, Catlab.Graphics.Graphviz.Html}}(:label => \"inOn_l\")), Catlab.Graphics.Graphviz.Edge(Catlab.Graphics.Graphviz.NodeID[Catlab.Graphics.Graphviz.NodeID(\"n5\", \"\", \"\"), Catlab.Graphics.Graphviz.NodeID(\"n1\", \"\", \"\")], OrderedCollections.OrderedDict{Symbol, Union{String, Catlab.Graphics.Graphviz.Html}}(:label => \"inOn_r\"))], OrderedCollections.OrderedDict{Symbol, Union{String, Catlab.Graphics.Graphviz.Html}}(), OrderedCollections.OrderedDict{Symbol, Union{String, Catlab.Graphics.Graphviz.Html}}(:margin => \"0\", :shape => \"ellipse\"), OrderedCollections.OrderedDict{Symbol, Union{String, Catlab.Graphics.Graphviz.Html}}())",
      "image/svg+xml": [
       "<?xml version=\"1.0\" encoding=\"UTF-8\" standalone=\"no\"?>\n",
       "<!DOCTYPE svg PUBLIC \"-//W3C//DTD SVG 1.1//EN\"\n",
       " \"http://www.w3.org/Graphics/SVG/1.1/DTD/svg11.dtd\">\n",
       "<!-- Generated by graphviz version 2.43.0 (0)\n",
       " -->\n",
       "<!-- Title: G Pages: 1 -->\n",
       "<svg width=\"330pt\" height=\"177pt\"\n",
       " viewBox=\"0.00 0.00 330.05 176.97\" xmlns=\"http://www.w3.org/2000/svg\" xmlns:xlink=\"http://www.w3.org/1999/xlink\">\n",
       "<g id=\"graph0\" class=\"graph\" transform=\"scale(1 1) rotate(0) translate(4 172.97)\">\n",
       "<title>G</title>\n",
       "<polygon fill=\"white\" stroke=\"transparent\" points=\"-4,4 -4,-172.97 326.05,-172.97 326.05,4 -4,4\"/>\n",
       "<!-- n1 -->\n",
       "<g id=\"node1\" class=\"node\">\n",
       "<title>n1</title>\n",
       "<ellipse fill=\"none\" stroke=\"black\" cx=\"159.1\" cy=\"-84.66\" rx=\"27\" ry=\"18\"/>\n",
       "<text text-anchor=\"middle\" x=\"159.1\" y=\"-80.96\" font-family=\"Times,serif\" font-size=\"14.00\">Thing</text>\n",
       "</g>\n",
       "<!-- n2 -->\n",
       "<g id=\"node2\" class=\"node\">\n",
       "<title>n2</title>\n",
       "<ellipse fill=\"none\" stroke=\"black\" cx=\"225.79\" cy=\"-41.42\" rx=\"40.9\" ry=\"18\"/>\n",
       "<text text-anchor=\"middle\" x=\"225.79\" y=\"-37.72\" font-family=\"Times,serif\" font-size=\"14.00\">BreadLoaf</text>\n",
       "</g>\n",
       "<!-- n2&#45;&gt;n1 -->\n",
       "<g id=\"edge1\" class=\"edge\">\n",
       "<title>n2&#45;&gt;n1</title>\n",
       "<path fill=\"none\" stroke=\"black\" d=\"M202.84,-56.3C197.82,-59.55 192.45,-63.04 187.25,-66.41\"/>\n",
       "<polygon fill=\"black\" stroke=\"black\" points=\"185.25,-63.53 178.76,-71.91 189.06,-69.41 185.25,-63.53\"/>\n",
       "<text text-anchor=\"middle\" x=\"258.55\" y=\"-65.15\" font-family=\"Times,serif\" font-size=\"14.00\">BreadLoafIsThing</text>\n",
       "</g>\n",
       "<!-- n3 -->\n",
       "<g id=\"node3\" class=\"node\">\n",
       "<title>n3</title>\n",
       "<ellipse fill=\"none\" stroke=\"black\" cx=\"115.94\" cy=\"-18\" rx=\"45.2\" ry=\"18\"/>\n",
       "<text text-anchor=\"middle\" x=\"115.94\" y=\"-14.3\" font-family=\"Times,serif\" font-size=\"14.00\">Countertop</text>\n",
       "</g>\n",
       "<!-- n3&#45;&gt;n1 -->\n",
       "<g id=\"edge2\" class=\"edge\">\n",
       "<title>n3&#45;&gt;n1</title>\n",
       "<path fill=\"none\" stroke=\"black\" d=\"M127.28,-35.51C132,-42.8 137.57,-51.4 142.72,-59.35\"/>\n",
       "<polygon fill=\"black\" stroke=\"black\" points=\"139.91,-61.46 148.29,-67.95 145.79,-57.65 139.91,-61.46\"/>\n",
       "<text text-anchor=\"middle\" x=\"67.5\" y=\"-51.23\" font-family=\"Times,serif\" font-size=\"14.00\">CountertopIsThing</text>\n",
       "</g>\n",
       "<!-- n4 -->\n",
       "<g id=\"node4\" class=\"node\">\n",
       "<title>n4</title>\n",
       "<ellipse fill=\"none\" stroke=\"black\" cx=\"92.88\" cy=\"-128.51\" rx=\"27\" ry=\"18\"/>\n",
       "<text text-anchor=\"middle\" x=\"92.88\" y=\"-124.81\" font-family=\"Times,serif\" font-size=\"14.00\">Stool</text>\n",
       "</g>\n",
       "<!-- n4&#45;&gt;n1 -->\n",
       "<g id=\"edge3\" class=\"edge\">\n",
       "<title>n4&#45;&gt;n1</title>\n",
       "<path fill=\"none\" stroke=\"black\" d=\"M112.39,-115.59C118.27,-111.7 124.84,-107.35 131.15,-103.17\"/>\n",
       "<polygon fill=\"black\" stroke=\"black\" points=\"133.1,-106.08 139.5,-97.64 129.23,-100.24 133.1,-106.08\"/>\n",
       "<text text-anchor=\"middle\" x=\"76.27\" y=\"-98.18\" font-family=\"Times,serif\" font-size=\"14.00\">StoolIsThing</text>\n",
       "</g>\n",
       "<!-- n5 -->\n",
       "<g id=\"node5\" class=\"node\">\n",
       "<title>n5</title>\n",
       "<ellipse fill=\"none\" stroke=\"black\" cx=\"202.95\" cy=\"-150.97\" rx=\"27\" ry=\"18\"/>\n",
       "<text text-anchor=\"middle\" x=\"202.95\" y=\"-147.27\" font-family=\"Times,serif\" font-size=\"14.00\">InOn</text>\n",
       "</g>\n",
       "<!-- n5&#45;&gt;n1 -->\n",
       "<g id=\"edge4\" class=\"edge\">\n",
       "<title>n5&#45;&gt;n1</title>\n",
       "<path fill=\"none\" stroke=\"black\" d=\"M197.99,-133.1C193.89,-125.23 188.1,-115.92 182.19,-107.56\"/>\n",
       "<polygon fill=\"black\" stroke=\"black\" points=\"184.83,-105.24 176.06,-99.29 179.21,-109.41 184.83,-105.24\"/>\n",
       "<text text-anchor=\"middle\" x=\"167.09\" y=\"-109.13\" font-family=\"Times,serif\" font-size=\"14.00\">inOn_l</text>\n",
       "</g>\n",
       "<!-- n5&#45;&gt;n1 -->\n",
       "<g id=\"edge5\" class=\"edge\">\n",
       "<title>n5&#45;&gt;n1</title>\n",
       "<path fill=\"none\" stroke=\"black\" d=\"M186.15,-136.54C180.38,-129.18 174.16,-120.03 169.06,-111.46\"/>\n",
       "<polygon fill=\"black\" stroke=\"black\" points=\"171.98,-109.51 164.04,-102.49 165.87,-112.93 171.98,-109.51\"/>\n",
       "<text text-anchor=\"middle\" x=\"153.6\" y=\"-127.8\" font-family=\"Times,serif\" font-size=\"14.00\">inOn_r</text>\n",
       "</g>\n",
       "</g>\n",
       "</svg>\n"
      ]
     },
     "metadata": {},
     "execution_count": 3
    }
   ],
   "cell_type": "code",
   "source": [
    "to_graphviz(OntBreadWorld)"
   ],
   "metadata": {},
   "execution_count": 3
  },
  {
   "cell_type": "markdown",
   "source": [
    "Make the ontology an acset type"
   ],
   "metadata": {}
  },
  {
   "outputs": [
    {
     "output_type": "execute_result",
     "data": {
      "text/plain": "Main.var\"##236\".BreadWorld"
     },
     "metadata": {},
     "execution_count": 4
    }
   ],
   "cell_type": "code",
   "source": [
    "@acset_type BreadWorld(OntBreadWorld)"
   ],
   "metadata": {},
   "execution_count": 4
  },
  {
   "cell_type": "markdown",
   "source": [
    "Construct rule by defining a span in the category of ACSets\n",
    "\n",
    "Use the @acset macro to define an ACSet functor. The LHS refers to a type (or object) in our ontology and the RHS defines the set assignment using FinFunctions. For this, you need to completely specify the ACSet functor, i.e. every object and morphism in the index category must be specified."
   ],
   "metadata": {}
  },
  {
   "cell_type": "markdown",
   "source": [
    "**About the rule:** This rule moves a breadloaf from a countertop to a stool."
   ],
   "metadata": {}
  },
  {
   "cell_type": "markdown",
   "source": [
    "### Left ACSet"
   ],
   "metadata": {}
  },
  {
   "outputs": [
    {
     "output_type": "execute_result",
     "data": {
      "text/plain": "Main.var\"##236\".BreadWorld {Thing:3, BreadLoaf:1, Countertop:1, Stool:1, InOn:1}\n┌───────────┬──────────────────┐\n│\u001b[1m BreadLoaf │\u001b[1m BreadLoafIsThing │\n├───────────┼──────────────────┤\n│\u001b[1m         1 │                1 │\n└───────────┴──────────────────┘\n┌────────────┬───────────────────┐\n│\u001b[1m Countertop │\u001b[1m CountertopIsThing │\n├────────────┼───────────────────┤\n│\u001b[1m          1 │                 2 │\n└────────────┴───────────────────┘\n┌───────┬──────────────┐\n│\u001b[1m Stool │\u001b[1m StoolIsThing │\n├───────┼──────────────┤\n│\u001b[1m     1 │            3 │\n└───────┴──────────────┘\n┌──────┬────────┬────────┐\n│\u001b[1m InOn │\u001b[1m inOn_l │\u001b[1m inOn_r │\n├──────┼────────┼────────┤\n│\u001b[1m    1 │      1 │      2 │\n└──────┴────────┴────────┘\n",
      "text/html": [
       "<div class=\"c-set\">\n",
       "<span class=\"c-set-summary\">Main.var\"##236\".BreadWorld {Thing:3, BreadLoaf:1, Countertop:1, Stool:1, InOn:1}</span>\n",
       "<table>\n",
       "  <thead>\n",
       "    <tr class = \"header headerLastRow\">\n",
       "      <th class = \"rowLabel\" style = \"font-weight: bold; text-align: right;\">BreadLoaf</th>\n",
       "      <th style = \"text-align: right;\">BreadLoafIsThing</th>\n",
       "    </tr>\n",
       "  </thead>\n",
       "  <tbody>\n",
       "    <tr>\n",
       "      <td class = \"rowLabel\" style = \"font-weight: bold; text-align: right;\">1</td>\n",
       "      <td style = \"text-align: right;\">1</td>\n",
       "    </tr>\n",
       "  </tbody>\n",
       "</table>\n",
       "<table>\n",
       "  <thead>\n",
       "    <tr class = \"header headerLastRow\">\n",
       "      <th class = \"rowLabel\" style = \"font-weight: bold; text-align: right;\">Countertop</th>\n",
       "      <th style = \"text-align: right;\">CountertopIsThing</th>\n",
       "    </tr>\n",
       "  </thead>\n",
       "  <tbody>\n",
       "    <tr>\n",
       "      <td class = \"rowLabel\" style = \"font-weight: bold; text-align: right;\">1</td>\n",
       "      <td style = \"text-align: right;\">2</td>\n",
       "    </tr>\n",
       "  </tbody>\n",
       "</table>\n",
       "<table>\n",
       "  <thead>\n",
       "    <tr class = \"header headerLastRow\">\n",
       "      <th class = \"rowLabel\" style = \"font-weight: bold; text-align: right;\">Stool</th>\n",
       "      <th style = \"text-align: right;\">StoolIsThing</th>\n",
       "    </tr>\n",
       "  </thead>\n",
       "  <tbody>\n",
       "    <tr>\n",
       "      <td class = \"rowLabel\" style = \"font-weight: bold; text-align: right;\">1</td>\n",
       "      <td style = \"text-align: right;\">3</td>\n",
       "    </tr>\n",
       "  </tbody>\n",
       "</table>\n",
       "<table>\n",
       "  <thead>\n",
       "    <tr class = \"header headerLastRow\">\n",
       "      <th class = \"rowLabel\" style = \"font-weight: bold; text-align: right;\">InOn</th>\n",
       "      <th style = \"text-align: right;\">inOn_l</th>\n",
       "      <th style = \"text-align: right;\">inOn_r</th>\n",
       "    </tr>\n",
       "  </thead>\n",
       "  <tbody>\n",
       "    <tr>\n",
       "      <td class = \"rowLabel\" style = \"font-weight: bold; text-align: right;\">1</td>\n",
       "      <td style = \"text-align: right;\">1</td>\n",
       "      <td style = \"text-align: right;\">2</td>\n",
       "    </tr>\n",
       "  </tbody>\n",
       "</table>\n",
       "</div>\n"
      ]
     },
     "metadata": {},
     "execution_count": 5
    }
   ],
   "cell_type": "code",
   "source": [
    "L = @acset BreadWorld begin\n",
    "  Thing = 3\n",
    "  BreadLoaf = 1\n",
    "  Countertop = 1\n",
    "  Stool = 1\n",
    "\n",
    "  BreadLoafIsThing = [1]\n",
    "  CountertopIsThing = [2]\n",
    "  StoolIsThing = [3]\n",
    "\n",
    "  InOn = 1\n",
    "  inOn_l = [1]\n",
    "  inOn_r = [2]  # breadloaf is on the countertop\n",
    "end"
   ],
   "metadata": {},
   "execution_count": 5
  },
  {
   "cell_type": "markdown",
   "source": [
    "### Middle/Keep ACSet\n",
    "The Thing, Breadloaf, Countertop, and Stool types should be held constant. The InOn type will change because we are changing the underlying set function."
   ],
   "metadata": {}
  },
  {
   "outputs": [
    {
     "output_type": "execute_result",
     "data": {
      "text/plain": "Main.var\"##236\".BreadWorld {Thing:3, BreadLoaf:1, Countertop:1, Stool:1, InOn:0}\n┌───────────┬──────────────────┐\n│\u001b[1m BreadLoaf │\u001b[1m BreadLoafIsThing │\n├───────────┼──────────────────┤\n│\u001b[1m         1 │                1 │\n└───────────┴──────────────────┘\n┌────────────┬───────────────────┐\n│\u001b[1m Countertop │\u001b[1m CountertopIsThing │\n├────────────┼───────────────────┤\n│\u001b[1m          1 │                 2 │\n└────────────┴───────────────────┘\n┌───────┬──────────────┐\n│\u001b[1m Stool │\u001b[1m StoolIsThing │\n├───────┼──────────────┤\n│\u001b[1m     1 │            3 │\n└───────┴──────────────┘\n",
      "text/html": [
       "<div class=\"c-set\">\n",
       "<span class=\"c-set-summary\">Main.var\"##236\".BreadWorld {Thing:3, BreadLoaf:1, Countertop:1, Stool:1, InOn:0}</span>\n",
       "<table>\n",
       "  <thead>\n",
       "    <tr class = \"header headerLastRow\">\n",
       "      <th class = \"rowLabel\" style = \"font-weight: bold; text-align: right;\">BreadLoaf</th>\n",
       "      <th style = \"text-align: right;\">BreadLoafIsThing</th>\n",
       "    </tr>\n",
       "  </thead>\n",
       "  <tbody>\n",
       "    <tr>\n",
       "      <td class = \"rowLabel\" style = \"font-weight: bold; text-align: right;\">1</td>\n",
       "      <td style = \"text-align: right;\">1</td>\n",
       "    </tr>\n",
       "  </tbody>\n",
       "</table>\n",
       "<table>\n",
       "  <thead>\n",
       "    <tr class = \"header headerLastRow\">\n",
       "      <th class = \"rowLabel\" style = \"font-weight: bold; text-align: right;\">Countertop</th>\n",
       "      <th style = \"text-align: right;\">CountertopIsThing</th>\n",
       "    </tr>\n",
       "  </thead>\n",
       "  <tbody>\n",
       "    <tr>\n",
       "      <td class = \"rowLabel\" style = \"font-weight: bold; text-align: right;\">1</td>\n",
       "      <td style = \"text-align: right;\">2</td>\n",
       "    </tr>\n",
       "  </tbody>\n",
       "</table>\n",
       "<table>\n",
       "  <thead>\n",
       "    <tr class = \"header headerLastRow\">\n",
       "      <th class = \"rowLabel\" style = \"font-weight: bold; text-align: right;\">Stool</th>\n",
       "      <th style = \"text-align: right;\">StoolIsThing</th>\n",
       "    </tr>\n",
       "  </thead>\n",
       "  <tbody>\n",
       "    <tr>\n",
       "      <td class = \"rowLabel\" style = \"font-weight: bold; text-align: right;\">1</td>\n",
       "      <td style = \"text-align: right;\">3</td>\n",
       "    </tr>\n",
       "  </tbody>\n",
       "</table>\n",
       "</div>\n"
      ]
     },
     "metadata": {},
     "execution_count": 6
    }
   ],
   "cell_type": "code",
   "source": [
    "K = @acset BreadWorld begin\n",
    "  Thing = 3\n",
    "  BreadLoaf = 1\n",
    "  Countertop = 1\n",
    "  Stool = 1\n",
    "  BreadLoafIsThing = [1]\n",
    "  CountertopIsThing = [2]\n",
    "  StoolIsThing = [3]\n",
    "end"
   ],
   "metadata": {},
   "execution_count": 6
  },
  {
   "cell_type": "markdown",
   "source": [
    "### Right ACSet"
   ],
   "metadata": {}
  },
  {
   "outputs": [
    {
     "output_type": "execute_result",
     "data": {
      "text/plain": "Main.var\"##236\".BreadWorld {Thing:3, BreadLoaf:1, Countertop:1, Stool:1, InOn:1}\n┌───────────┬──────────────────┐\n│\u001b[1m BreadLoaf │\u001b[1m BreadLoafIsThing │\n├───────────┼──────────────────┤\n│\u001b[1m         1 │                1 │\n└───────────┴──────────────────┘\n┌────────────┬───────────────────┐\n│\u001b[1m Countertop │\u001b[1m CountertopIsThing │\n├────────────┼───────────────────┤\n│\u001b[1m          1 │                 2 │\n└────────────┴───────────────────┘\n┌───────┬──────────────┐\n│\u001b[1m Stool │\u001b[1m StoolIsThing │\n├───────┼──────────────┤\n│\u001b[1m     1 │            3 │\n└───────┴──────────────┘\n┌──────┬────────┬────────┐\n│\u001b[1m InOn │\u001b[1m inOn_l │\u001b[1m inOn_r │\n├──────┼────────┼────────┤\n│\u001b[1m    1 │      1 │      3 │\n└──────┴────────┴────────┘\n",
      "text/html": [
       "<div class=\"c-set\">\n",
       "<span class=\"c-set-summary\">Main.var\"##236\".BreadWorld {Thing:3, BreadLoaf:1, Countertop:1, Stool:1, InOn:1}</span>\n",
       "<table>\n",
       "  <thead>\n",
       "    <tr class = \"header headerLastRow\">\n",
       "      <th class = \"rowLabel\" style = \"font-weight: bold; text-align: right;\">BreadLoaf</th>\n",
       "      <th style = \"text-align: right;\">BreadLoafIsThing</th>\n",
       "    </tr>\n",
       "  </thead>\n",
       "  <tbody>\n",
       "    <tr>\n",
       "      <td class = \"rowLabel\" style = \"font-weight: bold; text-align: right;\">1</td>\n",
       "      <td style = \"text-align: right;\">1</td>\n",
       "    </tr>\n",
       "  </tbody>\n",
       "</table>\n",
       "<table>\n",
       "  <thead>\n",
       "    <tr class = \"header headerLastRow\">\n",
       "      <th class = \"rowLabel\" style = \"font-weight: bold; text-align: right;\">Countertop</th>\n",
       "      <th style = \"text-align: right;\">CountertopIsThing</th>\n",
       "    </tr>\n",
       "  </thead>\n",
       "  <tbody>\n",
       "    <tr>\n",
       "      <td class = \"rowLabel\" style = \"font-weight: bold; text-align: right;\">1</td>\n",
       "      <td style = \"text-align: right;\">2</td>\n",
       "    </tr>\n",
       "  </tbody>\n",
       "</table>\n",
       "<table>\n",
       "  <thead>\n",
       "    <tr class = \"header headerLastRow\">\n",
       "      <th class = \"rowLabel\" style = \"font-weight: bold; text-align: right;\">Stool</th>\n",
       "      <th style = \"text-align: right;\">StoolIsThing</th>\n",
       "    </tr>\n",
       "  </thead>\n",
       "  <tbody>\n",
       "    <tr>\n",
       "      <td class = \"rowLabel\" style = \"font-weight: bold; text-align: right;\">1</td>\n",
       "      <td style = \"text-align: right;\">3</td>\n",
       "    </tr>\n",
       "  </tbody>\n",
       "</table>\n",
       "<table>\n",
       "  <thead>\n",
       "    <tr class = \"header headerLastRow\">\n",
       "      <th class = \"rowLabel\" style = \"font-weight: bold; text-align: right;\">InOn</th>\n",
       "      <th style = \"text-align: right;\">inOn_l</th>\n",
       "      <th style = \"text-align: right;\">inOn_r</th>\n",
       "    </tr>\n",
       "  </thead>\n",
       "  <tbody>\n",
       "    <tr>\n",
       "      <td class = \"rowLabel\" style = \"font-weight: bold; text-align: right;\">1</td>\n",
       "      <td style = \"text-align: right;\">1</td>\n",
       "      <td style = \"text-align: right;\">3</td>\n",
       "    </tr>\n",
       "  </tbody>\n",
       "</table>\n",
       "</div>\n"
      ]
     },
     "metadata": {},
     "execution_count": 7
    }
   ],
   "cell_type": "code",
   "source": [
    "R = @acset BreadWorld begin\n",
    "  Thing = 3\n",
    "  BreadLoaf = 1\n",
    "  Countertop = 1\n",
    "  Stool = 1\n",
    "\n",
    "  BreadLoafIsThing = [1]\n",
    "  CountertopIsThing = [2]\n",
    "  StoolIsThing = [3]\n",
    "\n",
    "  InOn = 1\n",
    "  inOn_l = [1]\n",
    "  inOn_r = [3]  # breadloaf is on the stool\n",
    "end"
   ],
   "metadata": {},
   "execution_count": 7
  },
  {
   "cell_type": "markdown",
   "source": [
    "### Left leg of span"
   ],
   "metadata": {}
  },
  {
   "outputs": [
    {
     "output_type": "execute_result",
     "data": {
      "text/plain": "ACSetTransformation((Thing = FinFunction([1, 2, 3], 3, 3), BreadLoaf = FinFunction([1], 1, 1), Countertop = FinFunction([1], 1, 1), Stool = FinFunction([1], 1, 1), InOn = FinFunction(Int64[], 0, 1)), Main.var\"##236\".BreadWorld {Thing:3, BreadLoaf:1, Countertop:1, Stool:1, InOn:0}, Main.var\"##236\".BreadWorld {Thing:3, BreadLoaf:1, Countertop:1, Stool:1, InOn:1})"
     },
     "metadata": {},
     "execution_count": 8
    }
   ],
   "cell_type": "code",
   "source": [
    "l = ACSetTransformation(K, L, Thing=[1, 2, 3], BreadLoaf=[1], Countertop=[1], Stool=[1])"
   ],
   "metadata": {},
   "execution_count": 8
  },
  {
   "cell_type": "markdown",
   "source": [
    "### Right leg of span"
   ],
   "metadata": {}
  },
  {
   "outputs": [
    {
     "output_type": "execute_result",
     "data": {
      "text/plain": "ACSetTransformation((Thing = FinFunction([1, 2, 3], 3, 3), BreadLoaf = FinFunction([1], 1, 1), Countertop = FinFunction([1], 1, 1), Stool = FinFunction([1], 1, 1), InOn = FinFunction(Int64[], 0, 1)), Main.var\"##236\".BreadWorld {Thing:3, BreadLoaf:1, Countertop:1, Stool:1, InOn:0}, Main.var\"##236\".BreadWorld {Thing:3, BreadLoaf:1, Countertop:1, Stool:1, InOn:1})"
     },
     "metadata": {},
     "execution_count": 9
    }
   ],
   "cell_type": "code",
   "source": [
    "r = ACSetTransformation(K, R, Thing=[1, 2, 3], BreadLoaf=[1], Countertop=[1], Stool=[1])"
   ],
   "metadata": {},
   "execution_count": 9
  },
  {
   "cell_type": "markdown",
   "source": [
    "Use AlgebraicRewriting.Rule wrapper to add a rule interface"
   ],
   "metadata": {}
  },
  {
   "outputs": [
    {
     "output_type": "execute_result",
     "data": {
      "text/plain": "Rule{:DPO}(ACSetTransformation((Thing = FinFunction([1, 2, 3], 3, 3), BreadLoaf = FinFunction([1], 1, 1), Countertop = FinFunction([1], 1, 1), Stool = FinFunction([1], 1, 1), InOn = FinFunction(Int64[], 0, 1)), Main.var\"##236\".BreadWorld {Thing:3, BreadLoaf:1, Countertop:1, Stool:1, InOn:0}, Main.var\"##236\".BreadWorld {Thing:3, BreadLoaf:1, Countertop:1, Stool:1, InOn:1}), ACSetTransformation((Thing = FinFunction([1, 2, 3], 3, 3), BreadLoaf = FinFunction([1], 1, 1), Countertop = FinFunction([1], 1, 1), Stool = FinFunction([1], 1, 1), InOn = FinFunction(Int64[], 0, 1)), Main.var\"##236\".BreadWorld {Thing:3, BreadLoaf:1, Countertop:1, Stool:1, InOn:0}, Main.var\"##236\".BreadWorld {Thing:3, BreadLoaf:1, Countertop:1, Stool:1, InOn:1}), Constraint[], Symbol[], Dict{Symbol, Dict{Int64, Union{Nothing, Function}}}())"
     },
     "metadata": {},
     "execution_count": 10
    }
   ],
   "cell_type": "code",
   "source": [
    "moveBreadRule = Rule(l, r)"
   ],
   "metadata": {},
   "execution_count": 10
  },
  {
   "cell_type": "markdown",
   "source": [
    "## WORLD STATE\n",
    "Define a world state using the @acset macro. This is the ACSet way of specifying an ACSet. For this, you need to completely specify the ACSet functor, i.e. every object and morphism in the index category must be specified. The ACSets must be specified in terms of FinFunctions."
   ],
   "metadata": {}
  },
  {
   "cell_type": "markdown",
   "source": [
    "**About the world state:** In this world state, there are two countertops, one stool, and one breadloaf. All of these amount to four things. The breadloaf is on the first countertop."
   ],
   "metadata": {}
  },
  {
   "outputs": [
    {
     "output_type": "execute_result",
     "data": {
      "text/plain": "Main.var\"##236\".BreadWorld {Thing:4, BreadLoaf:1, Countertop:2, Stool:1, InOn:1}\n┌───────────┬──────────────────┐\n│\u001b[1m BreadLoaf │\u001b[1m BreadLoafIsThing │\n├───────────┼──────────────────┤\n│\u001b[1m         1 │                1 │\n└───────────┴──────────────────┘\n┌────────────┬───────────────────┐\n│\u001b[1m Countertop │\u001b[1m CountertopIsThing │\n├────────────┼───────────────────┤\n│\u001b[1m          1 │                 2 │\n│\u001b[1m          2 │                 3 │\n└────────────┴───────────────────┘\n┌───────┬──────────────┐\n│\u001b[1m Stool │\u001b[1m StoolIsThing │\n├───────┼──────────────┤\n│\u001b[1m     1 │            4 │\n└───────┴──────────────┘\n┌──────┬────────┬────────┐\n│\u001b[1m InOn │\u001b[1m inOn_l │\u001b[1m inOn_r │\n├──────┼────────┼────────┤\n│\u001b[1m    1 │      1 │      2 │\n└──────┴────────┴────────┘\n",
      "text/html": [
       "<div class=\"c-set\">\n",
       "<span class=\"c-set-summary\">Main.var\"##236\".BreadWorld {Thing:4, BreadLoaf:1, Countertop:2, Stool:1, InOn:1}</span>\n",
       "<table>\n",
       "  <thead>\n",
       "    <tr class = \"header headerLastRow\">\n",
       "      <th class = \"rowLabel\" style = \"font-weight: bold; text-align: right;\">BreadLoaf</th>\n",
       "      <th style = \"text-align: right;\">BreadLoafIsThing</th>\n",
       "    </tr>\n",
       "  </thead>\n",
       "  <tbody>\n",
       "    <tr>\n",
       "      <td class = \"rowLabel\" style = \"font-weight: bold; text-align: right;\">1</td>\n",
       "      <td style = \"text-align: right;\">1</td>\n",
       "    </tr>\n",
       "  </tbody>\n",
       "</table>\n",
       "<table>\n",
       "  <thead>\n",
       "    <tr class = \"header headerLastRow\">\n",
       "      <th class = \"rowLabel\" style = \"font-weight: bold; text-align: right;\">Countertop</th>\n",
       "      <th style = \"text-align: right;\">CountertopIsThing</th>\n",
       "    </tr>\n",
       "  </thead>\n",
       "  <tbody>\n",
       "    <tr>\n",
       "      <td class = \"rowLabel\" style = \"font-weight: bold; text-align: right;\">1</td>\n",
       "      <td style = \"text-align: right;\">2</td>\n",
       "    </tr>\n",
       "    <tr>\n",
       "      <td class = \"rowLabel\" style = \"font-weight: bold; text-align: right;\">2</td>\n",
       "      <td style = \"text-align: right;\">3</td>\n",
       "    </tr>\n",
       "  </tbody>\n",
       "</table>\n",
       "<table>\n",
       "  <thead>\n",
       "    <tr class = \"header headerLastRow\">\n",
       "      <th class = \"rowLabel\" style = \"font-weight: bold; text-align: right;\">Stool</th>\n",
       "      <th style = \"text-align: right;\">StoolIsThing</th>\n",
       "    </tr>\n",
       "  </thead>\n",
       "  <tbody>\n",
       "    <tr>\n",
       "      <td class = \"rowLabel\" style = \"font-weight: bold; text-align: right;\">1</td>\n",
       "      <td style = \"text-align: right;\">4</td>\n",
       "    </tr>\n",
       "  </tbody>\n",
       "</table>\n",
       "<table>\n",
       "  <thead>\n",
       "    <tr class = \"header headerLastRow\">\n",
       "      <th class = \"rowLabel\" style = \"font-weight: bold; text-align: right;\">InOn</th>\n",
       "      <th style = \"text-align: right;\">inOn_l</th>\n",
       "      <th style = \"text-align: right;\">inOn_r</th>\n",
       "    </tr>\n",
       "  </thead>\n",
       "  <tbody>\n",
       "    <tr>\n",
       "      <td class = \"rowLabel\" style = \"font-weight: bold; text-align: right;\">1</td>\n",
       "      <td style = \"text-align: right;\">1</td>\n",
       "      <td style = \"text-align: right;\">2</td>\n",
       "    </tr>\n",
       "  </tbody>\n",
       "</table>\n",
       "</div>\n"
      ]
     },
     "metadata": {},
     "execution_count": 11
    }
   ],
   "cell_type": "code",
   "source": [
    "state = @acset BreadWorld begin\n",
    "  Thing = 4\n",
    "  BreadLoaf = 1\n",
    "  Countertop = 2\n",
    "  Stool = 1\n",
    "\n",
    "  BreadLoafIsThing = [1]\n",
    "  CountertopIsThing = [2, 3] # there are two countertops\n",
    "  StoolIsThing = [4]\n",
    "\n",
    "  InOn = 1\n",
    "  inOn_l = [1]  # breadloaf is on the countertop 1\n",
    "  inOn_r = [2]\n",
    "end"
   ],
   "metadata": {},
   "execution_count": 11
  },
  {
   "cell_type": "markdown",
   "source": [
    "## Apply Rule\n",
    "Use the AlgebraicRewriting.get_matches(::Rule{T}, ::ACSet) utility function to find matches between the rule and the state."
   ],
   "metadata": {}
  },
  {
   "outputs": [
    {
     "output_type": "execute_result",
     "data": {
      "text/plain": "1-element Vector{Any}:\n ACSetTransformation((Thing = FinFunction([1, 2, 4], 3, 4), BreadLoaf = FinFunction([1], 1, 1), Countertop = FinFunction([1], 1, 2), Stool = FinFunction([1], 1, 1), InOn = FinFunction([1], 1, 1)), Main.var\"##236\".BreadWorld {Thing:3, BreadLoaf:1, Countertop:1, Stool:1, InOn:1}, Main.var\"##236\".BreadWorld {Thing:4, BreadLoaf:1, Countertop:2, Stool:1, InOn:1})"
     },
     "metadata": {},
     "execution_count": 12
    }
   ],
   "cell_type": "code",
   "source": [
    "matches = get_matches(moveBreadRule, state)"
   ],
   "metadata": {},
   "execution_count": 12
  },
  {
   "cell_type": "markdown",
   "source": [
    "Take the first match"
   ],
   "metadata": {}
  },
  {
   "outputs": [
    {
     "output_type": "execute_result",
     "data": {
      "text/plain": "ACSetTransformation((Thing = FinFunction([1, 2, 4], 3, 4), BreadLoaf = FinFunction([1], 1, 1), Countertop = FinFunction([1], 1, 2), Stool = FinFunction([1], 1, 1), InOn = FinFunction([1], 1, 1)), Main.var\"##236\".BreadWorld {Thing:3, BreadLoaf:1, Countertop:1, Stool:1, InOn:1}, Main.var\"##236\".BreadWorld {Thing:4, BreadLoaf:1, Countertop:2, Stool:1, InOn:1})"
     },
     "metadata": {},
     "execution_count": 13
    }
   ],
   "cell_type": "code",
   "source": [
    "match = matches[1]"
   ],
   "metadata": {},
   "execution_count": 13
  },
  {
   "cell_type": "markdown",
   "source": [
    "Compute the new world state after rewriting"
   ],
   "metadata": {}
  },
  {
   "outputs": [
    {
     "output_type": "execute_result",
     "data": {
      "text/plain": "Main.var\"##236\".BreadWorld {Thing:4, BreadLoaf:1, Countertop:2, Stool:1, InOn:1}\n┌───────────┬──────────────────┐\n│\u001b[1m BreadLoaf │\u001b[1m BreadLoafIsThing │\n├───────────┼──────────────────┤\n│\u001b[1m         1 │                1 │\n└───────────┴──────────────────┘\n┌────────────┬───────────────────┐\n│\u001b[1m Countertop │\u001b[1m CountertopIsThing │\n├────────────┼───────────────────┤\n│\u001b[1m          1 │                 2 │\n│\u001b[1m          2 │                 4 │\n└────────────┴───────────────────┘\n┌───────┬──────────────┐\n│\u001b[1m Stool │\u001b[1m StoolIsThing │\n├───────┼──────────────┤\n│\u001b[1m     1 │            3 │\n└───────┴──────────────┘\n┌──────┬────────┬────────┐\n│\u001b[1m InOn │\u001b[1m inOn_l │\u001b[1m inOn_r │\n├──────┼────────┼────────┤\n│\u001b[1m    1 │      1 │      3 │\n└──────┴────────┴────────┘\n",
      "text/html": [
       "<div class=\"c-set\">\n",
       "<span class=\"c-set-summary\">Main.var\"##236\".BreadWorld {Thing:4, BreadLoaf:1, Countertop:2, Stool:1, InOn:1}</span>\n",
       "<table>\n",
       "  <thead>\n",
       "    <tr class = \"header headerLastRow\">\n",
       "      <th class = \"rowLabel\" style = \"font-weight: bold; text-align: right;\">BreadLoaf</th>\n",
       "      <th style = \"text-align: right;\">BreadLoafIsThing</th>\n",
       "    </tr>\n",
       "  </thead>\n",
       "  <tbody>\n",
       "    <tr>\n",
       "      <td class = \"rowLabel\" style = \"font-weight: bold; text-align: right;\">1</td>\n",
       "      <td style = \"text-align: right;\">1</td>\n",
       "    </tr>\n",
       "  </tbody>\n",
       "</table>\n",
       "<table>\n",
       "  <thead>\n",
       "    <tr class = \"header headerLastRow\">\n",
       "      <th class = \"rowLabel\" style = \"font-weight: bold; text-align: right;\">Countertop</th>\n",
       "      <th style = \"text-align: right;\">CountertopIsThing</th>\n",
       "    </tr>\n",
       "  </thead>\n",
       "  <tbody>\n",
       "    <tr>\n",
       "      <td class = \"rowLabel\" style = \"font-weight: bold; text-align: right;\">1</td>\n",
       "      <td style = \"text-align: right;\">2</td>\n",
       "    </tr>\n",
       "    <tr>\n",
       "      <td class = \"rowLabel\" style = \"font-weight: bold; text-align: right;\">2</td>\n",
       "      <td style = \"text-align: right;\">4</td>\n",
       "    </tr>\n",
       "  </tbody>\n",
       "</table>\n",
       "<table>\n",
       "  <thead>\n",
       "    <tr class = \"header headerLastRow\">\n",
       "      <th class = \"rowLabel\" style = \"font-weight: bold; text-align: right;\">Stool</th>\n",
       "      <th style = \"text-align: right;\">StoolIsThing</th>\n",
       "    </tr>\n",
       "  </thead>\n",
       "  <tbody>\n",
       "    <tr>\n",
       "      <td class = \"rowLabel\" style = \"font-weight: bold; text-align: right;\">1</td>\n",
       "      <td style = \"text-align: right;\">3</td>\n",
       "    </tr>\n",
       "  </tbody>\n",
       "</table>\n",
       "<table>\n",
       "  <thead>\n",
       "    <tr class = \"header headerLastRow\">\n",
       "      <th class = \"rowLabel\" style = \"font-weight: bold; text-align: right;\">InOn</th>\n",
       "      <th style = \"text-align: right;\">inOn_l</th>\n",
       "      <th style = \"text-align: right;\">inOn_r</th>\n",
       "    </tr>\n",
       "  </thead>\n",
       "  <tbody>\n",
       "    <tr>\n",
       "      <td class = \"rowLabel\" style = \"font-weight: bold; text-align: right;\">1</td>\n",
       "      <td style = \"text-align: right;\">1</td>\n",
       "      <td style = \"text-align: right;\">3</td>\n",
       "    </tr>\n",
       "  </tbody>\n",
       "</table>\n",
       "</div>\n"
      ]
     },
     "metadata": {},
     "execution_count": 14
    }
   ],
   "cell_type": "code",
   "source": [
    "new_state = rewrite_match(moveBreadRule, match)"
   ],
   "metadata": {},
   "execution_count": 14
  }
 ],
 "nbformat_minor": 3,
 "metadata": {
  "language_info": {
   "file_extension": ".jl",
   "mimetype": "application/julia",
   "name": "julia",
   "version": "1.10.3"
  },
  "kernelspec": {
   "name": "julia-1.10",
   "display_name": "Julia 1.10.3",
   "language": "julia"
  }
 },
 "nbformat": 4
}
