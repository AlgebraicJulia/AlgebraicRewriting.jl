{
 "cells": [
  {
   "cell_type": "markdown",
   "source": [
    "# Lotka Volterra"
   ],
   "metadata": {}
  },
  {
   "outputs": [
    {
     "output_type": "execute_result",
     "data": {
      "text/plain": "left (generic function with 7 methods)"
     },
     "metadata": {},
     "execution_count": 1
    }
   ],
   "cell_type": "code",
   "source": [
    "using Catlab, DataMigrations, AlgebraicRewriting\n",
    "using Random, Test, StructEquality\n",
    "using Luxor\n",
    "\n",
    "Random.seed!(123)\n",
    "\n",
    "using Catlab.Graphics.Graphviz: Attributes, Statement, Node\n",
    "using Catlab.Graphics.Graphviz\n",
    "\n",
    "import Catlab.CategoricalAlgebra: left, right\n",
    "\n",
    "function right(s::Symbol)\n",
    "  if s == :N\n",
    "    return :E\n",
    "  elseif s == :S\n",
    "    return :W\n",
    "  elseif s == :E\n",
    "    return :S\n",
    "  elseif s == :W\n",
    "    return :N\n",
    "  end\n",
    "end\n",
    "function left(s::Symbol)\n",
    "  if s == :N\n",
    "    return :W\n",
    "  elseif s == :S\n",
    "    return :E\n",
    "  elseif s == :E\n",
    "    return :N\n",
    "  elseif s == :W\n",
    "    return :S\n",
    "  end\n",
    "end"
   ],
   "metadata": {},
   "execution_count": 1
  },
  {
   "cell_type": "markdown",
   "source": [
    "Grass = 0 means alive grass, whereas grass > 0 represent a counter of time until the grass is alive.\n",
    "\n",
    "Sheeps and wolves have position and direction, so we assign each an *edge*. We assume a convention where the location of the something is the edge SOURCE.\n",
    "\n",
    "Dir is an attribute which can take values :N, :E, :W, and :S."
   ],
   "metadata": {}
  },
  {
   "outputs": [
    {
     "output_type": "execute_result",
     "data": {
      "text/plain": "Migrate(Dict(:Wolf => :Wolf, :V => :V, :Sheep => :Sheep, :E => :E), Dict(:wolf_loc => :wolf_loc, :src => :src, :sheep_loc => :sheep_loc, :tgt => :tgt), Main.var\"##232\".LV′_Generic{Symbol, Int64, Tuple{Int64, Int64}}, Main.var\"##232\".LV′_Generic{Symbol, Int64, Tuple{Int64, Int64}}, false)"
     },
     "metadata": {},
     "execution_count": 2
    }
   ],
   "cell_type": "code",
   "source": [
    "@present TheoryLV <: SchGraph begin\n",
    "  (Sheep, Wolf)::Ob\n",
    "  sheep_loc::Hom(Sheep, V)\n",
    "  wolf_loc::Hom(Wolf, V)\n",
    "\n",
    "  (Dir, Eng)::AttrType\n",
    "  grass_eng::Attr(V, Eng)\n",
    "  sheep_eng::Attr(Sheep, Eng)\n",
    "  wolf_eng::Attr(Wolf, Eng)\n",
    "  sheep_dir::Attr(Sheep, Dir)\n",
    "  wolf_dir::Attr(Wolf, Dir)\n",
    "  dir::Attr(E, Dir)\n",
    "end\n",
    "\n",
    "@present TheoryLV′ <: TheoryLV begin\n",
    "  Coord::AttrType\n",
    "  coord::Attr(V, Coord)\n",
    "end\n",
    "\n",
    "to_graphviz(TheoryLV; prog=\"dot\")\n",
    "\n",
    "@acset_type LV_Generic(TheoryLV) <: HasGraph\n",
    "const LV = LV_Generic{Symbol,Int}\n",
    "\n",
    "@acset_type LV′_Generic(TheoryLV′) <: HasGraph\n",
    "const LV′ = LV′_Generic{Symbol,Int,Tuple{Int,Int}}\n",
    "\n",
    "F = Migrate(\n",
    "  Dict(:Sheep => :Wolf, :Wolf => :Sheep),\n",
    "  Dict([:sheep_loc => :wolf_loc, :wolf_loc => :sheep_loc,\n",
    "    :sheep_eng => :wolf_eng, :wolf_eng => :sheep_eng, :grass_eng => :grass_eng,\n",
    "    :sheep_dir => :wolf_dir, :wolf_dir => :sheep_dir,]), LV)\n",
    "F2 = Migrate(\n",
    "  Dict(x => x for x in Symbol.(TheoryLV.generators[:Ob])),\n",
    "  Dict(x => x for x in Symbol.(TheoryLV.generators[:Hom])), LV′; delta=false)"
   ],
   "metadata": {},
   "execution_count": 2
  },
  {
   "cell_type": "markdown",
   "source": [
    "Create an n × n grid with periodic boundary conditions. Edges in each cardinal\n",
    "direction originate at every point\n",
    "\n",
    "(i,j+1) -> (i+1,j+1) -> ...\n",
    "  ↑          ↑\n",
    "(i,j)   -> (i+1,j)   -> ..."
   ],
   "metadata": {}
  },
  {
   "outputs": [
    {
     "output_type": "execute_result",
     "data": {
      "text/plain": "Main.var\"##232\".LV′_Generic{Symbol, Int64, Tuple{Int64, Int64}} {V:4, E:16, Sheep:0, Wolf:0, Dir:0, Eng:0, Coord:0}\n┌───┬───────────┬────────┐\n│\u001b[1m V \u001b[0m│\u001b[1m grass_eng \u001b[0m│\u001b[1m  coord \u001b[0m│\n├───┼───────────┼────────┤\n│\u001b[1m 1 \u001b[0m│         1 │ (0, 0) │\n│\u001b[1m 2 \u001b[0m│         5 │ (0, 1) │\n│\u001b[1m 3 \u001b[0m│        24 │ (1, 0) │\n│\u001b[1m 4 \u001b[0m│         0 │ (1, 1) │\n└───┴───────────┴────────┘\n┌────┬─────┬─────┬─────┐\n│\u001b[1m  E \u001b[0m│\u001b[1m src \u001b[0m│\u001b[1m tgt \u001b[0m│\u001b[1m dir \u001b[0m│\n├────┼─────┼─────┼─────┤\n│\u001b[1m  1 \u001b[0m│   1 │   3 │   E │\n│\u001b[1m  2 \u001b[0m│   1 │   3 │   W │\n│\u001b[1m  3 \u001b[0m│   1 │   2 │   N │\n│\u001b[1m  4 \u001b[0m│   1 │   2 │   S │\n│\u001b[1m  5 \u001b[0m│   2 │   4 │   E │\n│\u001b[1m  6 \u001b[0m│   2 │   4 │   W │\n│\u001b[1m  7 \u001b[0m│   2 │   1 │   N │\n│\u001b[1m  8 \u001b[0m│   2 │   1 │   S │\n│\u001b[1m  9 \u001b[0m│   3 │   1 │   E │\n│\u001b[1m 10 \u001b[0m│   3 │   1 │   W │\n│\u001b[1m 11 \u001b[0m│   3 │   4 │   N │\n│\u001b[1m 12 \u001b[0m│   3 │   4 │   S │\n│\u001b[1m 13 \u001b[0m│   4 │   2 │   E │\n│\u001b[1m 14 \u001b[0m│   4 │   2 │   W │\n│\u001b[1m 15 \u001b[0m│   4 │   3 │   N │\n│\u001b[1m 16 \u001b[0m│   4 │   3 │   S │\n└────┴─────┴─────┴─────┘\n",
      "text/html": [
       "<div class=\"c-set\">\n",
       "<span class=\"c-set-summary\">Main.var\"##232\".LV′_Generic{Symbol, Int64, Tuple{Int64, Int64}} {V:4, E:16, Sheep:0, Wolf:0, Dir:0, Eng:0, Coord:0}</span>\n",
       "<table>\n",
       "  <thead>\n",
       "    <tr class = \"header headerLastRow\">\n",
       "      <th class = \"rowLabel\" style = \"font-weight: bold; text-align: right;\">V</th>\n",
       "      <th style = \"text-align: right;\">grass_eng</th>\n",
       "      <th style = \"text-align: right;\">coord</th>\n",
       "    </tr>\n",
       "  </thead>\n",
       "  <tbody>\n",
       "    <tr>\n",
       "      <td class = \"rowLabel\" style = \"font-weight: bold; text-align: right;\">1</td>\n",
       "      <td style = \"text-align: right;\">1</td>\n",
       "      <td style = \"text-align: right;\">(0, 0)</td>\n",
       "    </tr>\n",
       "    <tr>\n",
       "      <td class = \"rowLabel\" style = \"font-weight: bold; text-align: right;\">2</td>\n",
       "      <td style = \"text-align: right;\">5</td>\n",
       "      <td style = \"text-align: right;\">(0, 1)</td>\n",
       "    </tr>\n",
       "    <tr>\n",
       "      <td class = \"rowLabel\" style = \"font-weight: bold; text-align: right;\">3</td>\n",
       "      <td style = \"text-align: right;\">24</td>\n",
       "      <td style = \"text-align: right;\">(1, 0)</td>\n",
       "    </tr>\n",
       "    <tr>\n",
       "      <td class = \"rowLabel\" style = \"font-weight: bold; text-align: right;\">4</td>\n",
       "      <td style = \"text-align: right;\">0</td>\n",
       "      <td style = \"text-align: right;\">(1, 1)</td>\n",
       "    </tr>\n",
       "  </tbody>\n",
       "</table>\n",
       "<table>\n",
       "  <thead>\n",
       "    <tr class = \"header headerLastRow\">\n",
       "      <th class = \"rowLabel\" style = \"font-weight: bold; text-align: right;\">E</th>\n",
       "      <th style = \"text-align: right;\">src</th>\n",
       "      <th style = \"text-align: right;\">tgt</th>\n",
       "      <th style = \"text-align: right;\">dir</th>\n",
       "    </tr>\n",
       "  </thead>\n",
       "  <tbody>\n",
       "    <tr>\n",
       "      <td class = \"rowLabel\" style = \"font-weight: bold; text-align: right;\">1</td>\n",
       "      <td style = \"text-align: right;\">1</td>\n",
       "      <td style = \"text-align: right;\">3</td>\n",
       "      <td style = \"text-align: right;\">E</td>\n",
       "    </tr>\n",
       "    <tr>\n",
       "      <td class = \"rowLabel\" style = \"font-weight: bold; text-align: right;\">2</td>\n",
       "      <td style = \"text-align: right;\">1</td>\n",
       "      <td style = \"text-align: right;\">3</td>\n",
       "      <td style = \"text-align: right;\">W</td>\n",
       "    </tr>\n",
       "    <tr>\n",
       "      <td class = \"rowLabel\" style = \"font-weight: bold; text-align: right;\">3</td>\n",
       "      <td style = \"text-align: right;\">1</td>\n",
       "      <td style = \"text-align: right;\">2</td>\n",
       "      <td style = \"text-align: right;\">N</td>\n",
       "    </tr>\n",
       "    <tr>\n",
       "      <td class = \"rowLabel\" style = \"font-weight: bold; text-align: right;\">4</td>\n",
       "      <td style = \"text-align: right;\">1</td>\n",
       "      <td style = \"text-align: right;\">2</td>\n",
       "      <td style = \"text-align: right;\">S</td>\n",
       "    </tr>\n",
       "    <tr>\n",
       "      <td class = \"rowLabel\" style = \"font-weight: bold; text-align: right;\">5</td>\n",
       "      <td style = \"text-align: right;\">2</td>\n",
       "      <td style = \"text-align: right;\">4</td>\n",
       "      <td style = \"text-align: right;\">E</td>\n",
       "    </tr>\n",
       "    <tr>\n",
       "      <td class = \"rowLabel\" style = \"font-weight: bold; text-align: right;\">6</td>\n",
       "      <td style = \"text-align: right;\">2</td>\n",
       "      <td style = \"text-align: right;\">4</td>\n",
       "      <td style = \"text-align: right;\">W</td>\n",
       "    </tr>\n",
       "    <tr>\n",
       "      <td class = \"rowLabel\" style = \"font-weight: bold; text-align: right;\">7</td>\n",
       "      <td style = \"text-align: right;\">2</td>\n",
       "      <td style = \"text-align: right;\">1</td>\n",
       "      <td style = \"text-align: right;\">N</td>\n",
       "    </tr>\n",
       "    <tr>\n",
       "      <td class = \"rowLabel\" style = \"font-weight: bold; text-align: right;\">8</td>\n",
       "      <td style = \"text-align: right;\">2</td>\n",
       "      <td style = \"text-align: right;\">1</td>\n",
       "      <td style = \"text-align: right;\">S</td>\n",
       "    </tr>\n",
       "    <tr>\n",
       "      <td class = \"rowLabel\" style = \"font-weight: bold; text-align: right;\">9</td>\n",
       "      <td style = \"text-align: right;\">3</td>\n",
       "      <td style = \"text-align: right;\">1</td>\n",
       "      <td style = \"text-align: right;\">E</td>\n",
       "    </tr>\n",
       "    <tr>\n",
       "      <td class = \"rowLabel\" style = \"font-weight: bold; text-align: right;\">10</td>\n",
       "      <td style = \"text-align: right;\">3</td>\n",
       "      <td style = \"text-align: right;\">1</td>\n",
       "      <td style = \"text-align: right;\">W</td>\n",
       "    </tr>\n",
       "    <tr>\n",
       "      <td class = \"rowLabel\" style = \"font-weight: bold; text-align: right;\">11</td>\n",
       "      <td style = \"text-align: right;\">3</td>\n",
       "      <td style = \"text-align: right;\">4</td>\n",
       "      <td style = \"text-align: right;\">N</td>\n",
       "    </tr>\n",
       "    <tr>\n",
       "      <td class = \"rowLabel\" style = \"font-weight: bold; text-align: right;\">12</td>\n",
       "      <td style = \"text-align: right;\">3</td>\n",
       "      <td style = \"text-align: right;\">4</td>\n",
       "      <td style = \"text-align: right;\">S</td>\n",
       "    </tr>\n",
       "    <tr>\n",
       "      <td class = \"rowLabel\" style = \"font-weight: bold; text-align: right;\">13</td>\n",
       "      <td style = \"text-align: right;\">4</td>\n",
       "      <td style = \"text-align: right;\">2</td>\n",
       "      <td style = \"text-align: right;\">E</td>\n",
       "    </tr>\n",
       "    <tr>\n",
       "      <td class = \"rowLabel\" style = \"font-weight: bold; text-align: right;\">14</td>\n",
       "      <td style = \"text-align: right;\">4</td>\n",
       "      <td style = \"text-align: right;\">2</td>\n",
       "      <td style = \"text-align: right;\">W</td>\n",
       "    </tr>\n",
       "    <tr>\n",
       "      <td class = \"rowLabel\" style = \"font-weight: bold; text-align: right;\">15</td>\n",
       "      <td style = \"text-align: right;\">4</td>\n",
       "      <td style = \"text-align: right;\">3</td>\n",
       "      <td style = \"text-align: right;\">N</td>\n",
       "    </tr>\n",
       "    <tr>\n",
       "      <td class = \"rowLabel\" style = \"font-weight: bold; text-align: right;\">16</td>\n",
       "      <td style = \"text-align: right;\">4</td>\n",
       "      <td style = \"text-align: right;\">3</td>\n",
       "      <td style = \"text-align: right;\">S</td>\n",
       "    </tr>\n",
       "  </tbody>\n",
       "</table>\n",
       "</div>\n"
      ]
     },
     "metadata": {},
     "execution_count": 3
    }
   ],
   "cell_type": "code",
   "source": [
    "function create_grid(n::Int)\n",
    "  lv = LV′()\n",
    "  coords = Dict()\n",
    "  for i in 0:n-1  # Initialize grass 50% green, 50% uniformly between 0-30\n",
    "    for j in 0:n-1\n",
    "      coords[i=>j] = add_part!(lv, :V; grass_eng=max(0, rand(-30:30)), coord=(i, j))\n",
    "    end\n",
    "  end\n",
    "  for i in 0:n-1\n",
    "    for j in 0:n-1\n",
    "      add_part!(lv, :E; src=coords[i=>j], tgt=coords[mod(i + 1, n)=>j], dir=:E)\n",
    "      add_part!(lv, :E; src=coords[i=>j], tgt=coords[mod(i - 1, n)=>j], dir=:W)\n",
    "      add_part!(lv, :E; src=coords[i=>j], tgt=coords[i=>mod(j + 1, n)], dir=:N)\n",
    "      add_part!(lv, :E; src=coords[i=>j], tgt=coords[i=>mod(j - 1, n)], dir=:S)\n",
    "    end\n",
    "  end\n",
    "  return lv\n",
    "end\n",
    "\n",
    "g = create_grid(2)"
   ],
   "metadata": {},
   "execution_count": 3
  },
  {
   "cell_type": "markdown",
   "source": [
    "`n` is the length of the grid.\n",
    "`sheep` and `wolves` are the fraction of spaces that are\n",
    "populated with that animal"
   ],
   "metadata": {}
  },
  {
   "outputs": [
    {
     "output_type": "execute_result",
     "data": {
      "text/plain": "supscript (generic function with 1 method)"
     },
     "metadata": {},
     "execution_count": 4
    }
   ],
   "cell_type": "code",
   "source": [
    "function initialize(n::Int, sheep::Float64, wolves::Float64)::LV′\n",
    "  grid = create_grid(n)\n",
    "  args = [(sheep, :Sheep, :sheep_loc, :sheep_eng, :sheep_dir),\n",
    "    (wolves, :Wolf, :wolf_loc, :wolf_eng, :wolf_dir)]\n",
    "  for (n_, name, loc, eng, d) in args\n",
    "    for _ in 1:round(Int, n_ * n^2)\n",
    "      dic = Dict([eng => 5, loc => rand(vertices(grid)),\n",
    "        d => rand([:N, :E, :S, :W])])\n",
    "      add_part!(grid, name; dic...)\n",
    "    end\n",
    "  end\n",
    "  return grid\n",
    "end\n",
    "\n",
    "\n",
    "supscript_d = Dict([\n",
    "  '1' => '¹', '2' => '²', '3' => '³', '4' => '⁴', '5' => '⁵', '6' => '⁶', '7' => '⁷', '8' => '⁸',\n",
    "  '9' => '⁹', '0' => '⁰', 'x' => 'ˣ', 'y' => 'ʸ', 'z' => 'ᶻ', 'a' => 'ᵃ', 'b' => 'ᵇ', 'c' => 'ᶜ',\n",
    "  'd' => 'ᵈ'])\n",
    "supscript(x::String) = join([get(supscript_d, c, c) for c in x])"
   ],
   "metadata": {},
   "execution_count": 4
  },
  {
   "cell_type": "markdown",
   "source": [
    "Visualize a LV"
   ],
   "metadata": {}
  },
  {
   "outputs": [
    {
     "output_type": "execute_result",
     "data": {
      "text/plain": "Main.var\"##232\".LV′_Generic{Symbol, Int64, Tuple{Int64, Int64}} {V:4, E:16, Sheep:2, Wolf:2, Dir:0, Eng:0, Coord:0}\n┌───┬───────────┬────────┐\n│\u001b[1m V \u001b[0m│\u001b[1m grass_eng \u001b[0m│\u001b[1m  coord \u001b[0m│\n├───┼───────────┼────────┤\n│\u001b[1m 1 \u001b[0m│         2 │ (0, 0) │\n│\u001b[1m 2 \u001b[0m│         0 │ (0, 1) │\n│\u001b[1m 3 \u001b[0m│         0 │ (1, 0) │\n│\u001b[1m 4 \u001b[0m│        26 │ (1, 1) │\n└───┴───────────┴────────┘\n┌────┬─────┬─────┬─────┐\n│\u001b[1m  E \u001b[0m│\u001b[1m src \u001b[0m│\u001b[1m tgt \u001b[0m│\u001b[1m dir \u001b[0m│\n├────┼─────┼─────┼─────┤\n│\u001b[1m  1 \u001b[0m│   1 │   3 │   E │\n│\u001b[1m  2 \u001b[0m│   1 │   3 │   W │\n│\u001b[1m  3 \u001b[0m│   1 │   2 │   N │\n│\u001b[1m  4 \u001b[0m│   1 │   2 │   S │\n│\u001b[1m  5 \u001b[0m│   2 │   4 │   E │\n│\u001b[1m  6 \u001b[0m│   2 │   4 │   W │\n│\u001b[1m  7 \u001b[0m│   2 │   1 │   N │\n│\u001b[1m  8 \u001b[0m│   2 │   1 │   S │\n│\u001b[1m  9 \u001b[0m│   3 │   1 │   E │\n│\u001b[1m 10 \u001b[0m│   3 │   1 │   W │\n│\u001b[1m 11 \u001b[0m│   3 │   4 │   N │\n│\u001b[1m 12 \u001b[0m│   3 │   4 │   S │\n│\u001b[1m 13 \u001b[0m│   4 │   2 │   E │\n│\u001b[1m 14 \u001b[0m│   4 │   2 │   W │\n│\u001b[1m 15 \u001b[0m│   4 │   3 │   N │\n│\u001b[1m 16 \u001b[0m│   4 │   3 │   S │\n└────┴─────┴─────┴─────┘\n┌───────┬───────────┬───────────┬───────────┐\n│\u001b[1m Sheep \u001b[0m│\u001b[1m sheep_loc \u001b[0m│\u001b[1m sheep_eng \u001b[0m│\u001b[1m sheep_dir \u001b[0m│\n├───────┼───────────┼───────────┼───────────┤\n│\u001b[1m     1 \u001b[0m│         3 │         5 │         E │\n│\u001b[1m     2 \u001b[0m│         3 │         5 │         W │\n└───────┴───────────┴───────────┴───────────┘\n┌──────┬──────────┬──────────┬──────────┐\n│\u001b[1m Wolf \u001b[0m│\u001b[1m wolf_loc \u001b[0m│\u001b[1m wolf_eng \u001b[0m│\u001b[1m wolf_dir \u001b[0m│\n├──────┼──────────┼──────────┼──────────┤\n│\u001b[1m    1 \u001b[0m│        1 │        5 │        E │\n│\u001b[1m    2 \u001b[0m│        2 │        5 │        N │\n└──────┴──────────┴──────────┴──────────┘\n",
      "text/html": [
       "<div class=\"c-set\">\n",
       "<span class=\"c-set-summary\">Main.var\"##232\".LV′_Generic{Symbol, Int64, Tuple{Int64, Int64}} {V:4, E:16, Sheep:2, Wolf:2, Dir:0, Eng:0, Coord:0}</span>\n",
       "<table>\n",
       "  <thead>\n",
       "    <tr class = \"header headerLastRow\">\n",
       "      <th class = \"rowLabel\" style = \"font-weight: bold; text-align: right;\">V</th>\n",
       "      <th style = \"text-align: right;\">grass_eng</th>\n",
       "      <th style = \"text-align: right;\">coord</th>\n",
       "    </tr>\n",
       "  </thead>\n",
       "  <tbody>\n",
       "    <tr>\n",
       "      <td class = \"rowLabel\" style = \"font-weight: bold; text-align: right;\">1</td>\n",
       "      <td style = \"text-align: right;\">2</td>\n",
       "      <td style = \"text-align: right;\">(0, 0)</td>\n",
       "    </tr>\n",
       "    <tr>\n",
       "      <td class = \"rowLabel\" style = \"font-weight: bold; text-align: right;\">2</td>\n",
       "      <td style = \"text-align: right;\">0</td>\n",
       "      <td style = \"text-align: right;\">(0, 1)</td>\n",
       "    </tr>\n",
       "    <tr>\n",
       "      <td class = \"rowLabel\" style = \"font-weight: bold; text-align: right;\">3</td>\n",
       "      <td style = \"text-align: right;\">0</td>\n",
       "      <td style = \"text-align: right;\">(1, 0)</td>\n",
       "    </tr>\n",
       "    <tr>\n",
       "      <td class = \"rowLabel\" style = \"font-weight: bold; text-align: right;\">4</td>\n",
       "      <td style = \"text-align: right;\">26</td>\n",
       "      <td style = \"text-align: right;\">(1, 1)</td>\n",
       "    </tr>\n",
       "  </tbody>\n",
       "</table>\n",
       "<table>\n",
       "  <thead>\n",
       "    <tr class = \"header headerLastRow\">\n",
       "      <th class = \"rowLabel\" style = \"font-weight: bold; text-align: right;\">E</th>\n",
       "      <th style = \"text-align: right;\">src</th>\n",
       "      <th style = \"text-align: right;\">tgt</th>\n",
       "      <th style = \"text-align: right;\">dir</th>\n",
       "    </tr>\n",
       "  </thead>\n",
       "  <tbody>\n",
       "    <tr>\n",
       "      <td class = \"rowLabel\" style = \"font-weight: bold; text-align: right;\">1</td>\n",
       "      <td style = \"text-align: right;\">1</td>\n",
       "      <td style = \"text-align: right;\">3</td>\n",
       "      <td style = \"text-align: right;\">E</td>\n",
       "    </tr>\n",
       "    <tr>\n",
       "      <td class = \"rowLabel\" style = \"font-weight: bold; text-align: right;\">2</td>\n",
       "      <td style = \"text-align: right;\">1</td>\n",
       "      <td style = \"text-align: right;\">3</td>\n",
       "      <td style = \"text-align: right;\">W</td>\n",
       "    </tr>\n",
       "    <tr>\n",
       "      <td class = \"rowLabel\" style = \"font-weight: bold; text-align: right;\">3</td>\n",
       "      <td style = \"text-align: right;\">1</td>\n",
       "      <td style = \"text-align: right;\">2</td>\n",
       "      <td style = \"text-align: right;\">N</td>\n",
       "    </tr>\n",
       "    <tr>\n",
       "      <td class = \"rowLabel\" style = \"font-weight: bold; text-align: right;\">4</td>\n",
       "      <td style = \"text-align: right;\">1</td>\n",
       "      <td style = \"text-align: right;\">2</td>\n",
       "      <td style = \"text-align: right;\">S</td>\n",
       "    </tr>\n",
       "    <tr>\n",
       "      <td class = \"rowLabel\" style = \"font-weight: bold; text-align: right;\">5</td>\n",
       "      <td style = \"text-align: right;\">2</td>\n",
       "      <td style = \"text-align: right;\">4</td>\n",
       "      <td style = \"text-align: right;\">E</td>\n",
       "    </tr>\n",
       "    <tr>\n",
       "      <td class = \"rowLabel\" style = \"font-weight: bold; text-align: right;\">6</td>\n",
       "      <td style = \"text-align: right;\">2</td>\n",
       "      <td style = \"text-align: right;\">4</td>\n",
       "      <td style = \"text-align: right;\">W</td>\n",
       "    </tr>\n",
       "    <tr>\n",
       "      <td class = \"rowLabel\" style = \"font-weight: bold; text-align: right;\">7</td>\n",
       "      <td style = \"text-align: right;\">2</td>\n",
       "      <td style = \"text-align: right;\">1</td>\n",
       "      <td style = \"text-align: right;\">N</td>\n",
       "    </tr>\n",
       "    <tr>\n",
       "      <td class = \"rowLabel\" style = \"font-weight: bold; text-align: right;\">8</td>\n",
       "      <td style = \"text-align: right;\">2</td>\n",
       "      <td style = \"text-align: right;\">1</td>\n",
       "      <td style = \"text-align: right;\">S</td>\n",
       "    </tr>\n",
       "    <tr>\n",
       "      <td class = \"rowLabel\" style = \"font-weight: bold; text-align: right;\">9</td>\n",
       "      <td style = \"text-align: right;\">3</td>\n",
       "      <td style = \"text-align: right;\">1</td>\n",
       "      <td style = \"text-align: right;\">E</td>\n",
       "    </tr>\n",
       "    <tr>\n",
       "      <td class = \"rowLabel\" style = \"font-weight: bold; text-align: right;\">10</td>\n",
       "      <td style = \"text-align: right;\">3</td>\n",
       "      <td style = \"text-align: right;\">1</td>\n",
       "      <td style = \"text-align: right;\">W</td>\n",
       "    </tr>\n",
       "    <tr>\n",
       "      <td class = \"rowLabel\" style = \"font-weight: bold; text-align: right;\">11</td>\n",
       "      <td style = \"text-align: right;\">3</td>\n",
       "      <td style = \"text-align: right;\">4</td>\n",
       "      <td style = \"text-align: right;\">N</td>\n",
       "    </tr>\n",
       "    <tr>\n",
       "      <td class = \"rowLabel\" style = \"font-weight: bold; text-align: right;\">12</td>\n",
       "      <td style = \"text-align: right;\">3</td>\n",
       "      <td style = \"text-align: right;\">4</td>\n",
       "      <td style = \"text-align: right;\">S</td>\n",
       "    </tr>\n",
       "    <tr>\n",
       "      <td class = \"rowLabel\" style = \"font-weight: bold; text-align: right;\">13</td>\n",
       "      <td style = \"text-align: right;\">4</td>\n",
       "      <td style = \"text-align: right;\">2</td>\n",
       "      <td style = \"text-align: right;\">E</td>\n",
       "    </tr>\n",
       "    <tr>\n",
       "      <td class = \"rowLabel\" style = \"font-weight: bold; text-align: right;\">14</td>\n",
       "      <td style = \"text-align: right;\">4</td>\n",
       "      <td style = \"text-align: right;\">2</td>\n",
       "      <td style = \"text-align: right;\">W</td>\n",
       "    </tr>\n",
       "    <tr>\n",
       "      <td class = \"rowLabel\" style = \"font-weight: bold; text-align: right;\">15</td>\n",
       "      <td style = \"text-align: right;\">4</td>\n",
       "      <td style = \"text-align: right;\">3</td>\n",
       "      <td style = \"text-align: right;\">N</td>\n",
       "    </tr>\n",
       "    <tr>\n",
       "      <td class = \"rowLabel\" style = \"font-weight: bold; text-align: right;\">16</td>\n",
       "      <td style = \"text-align: right;\">4</td>\n",
       "      <td style = \"text-align: right;\">3</td>\n",
       "      <td style = \"text-align: right;\">S</td>\n",
       "    </tr>\n",
       "  </tbody>\n",
       "</table>\n",
       "<table>\n",
       "  <thead>\n",
       "    <tr class = \"header headerLastRow\">\n",
       "      <th class = \"rowLabel\" style = \"font-weight: bold; text-align: right;\">Sheep</th>\n",
       "      <th style = \"text-align: right;\">sheep_loc</th>\n",
       "      <th style = \"text-align: right;\">sheep_eng</th>\n",
       "      <th style = \"text-align: right;\">sheep_dir</th>\n",
       "    </tr>\n",
       "  </thead>\n",
       "  <tbody>\n",
       "    <tr>\n",
       "      <td class = \"rowLabel\" style = \"font-weight: bold; text-align: right;\">1</td>\n",
       "      <td style = \"text-align: right;\">3</td>\n",
       "      <td style = \"text-align: right;\">5</td>\n",
       "      <td style = \"text-align: right;\">E</td>\n",
       "    </tr>\n",
       "    <tr>\n",
       "      <td class = \"rowLabel\" style = \"font-weight: bold; text-align: right;\">2</td>\n",
       "      <td style = \"text-align: right;\">3</td>\n",
       "      <td style = \"text-align: right;\">5</td>\n",
       "      <td style = \"text-align: right;\">W</td>\n",
       "    </tr>\n",
       "  </tbody>\n",
       "</table>\n",
       "<table>\n",
       "  <thead>\n",
       "    <tr class = \"header headerLastRow\">\n",
       "      <th class = \"rowLabel\" style = \"font-weight: bold; text-align: right;\">Wolf</th>\n",
       "      <th style = \"text-align: right;\">wolf_loc</th>\n",
       "      <th style = \"text-align: right;\">wolf_eng</th>\n",
       "      <th style = \"text-align: right;\">wolf_dir</th>\n",
       "    </tr>\n",
       "  </thead>\n",
       "  <tbody>\n",
       "    <tr>\n",
       "      <td class = \"rowLabel\" style = \"font-weight: bold; text-align: right;\">1</td>\n",
       "      <td style = \"text-align: right;\">1</td>\n",
       "      <td style = \"text-align: right;\">5</td>\n",
       "      <td style = \"text-align: right;\">E</td>\n",
       "    </tr>\n",
       "    <tr>\n",
       "      <td class = \"rowLabel\" style = \"font-weight: bold; text-align: right;\">2</td>\n",
       "      <td style = \"text-align: right;\">2</td>\n",
       "      <td style = \"text-align: right;\">5</td>\n",
       "      <td style = \"text-align: right;\">N</td>\n",
       "    </tr>\n",
       "  </tbody>\n",
       "</table>\n",
       "</div>\n"
      ]
     },
     "metadata": {},
     "execution_count": 5
    }
   ],
   "cell_type": "code",
   "source": [
    "function view_LV(p::ACSetTransformation, pth=tempname(); name=\"G\", title=\"\")\n",
    "  if nparts(dom(p), :Wolf) == 1\n",
    "    star = :Wolf => p[:Wolf](1)\n",
    "  elseif nparts(dom(p), :Sheep) == 1\n",
    "    star = :Sheep => p[:Sheep](1)\n",
    "  elseif nparts(dom(p), :V) == 1\n",
    "    star = :V => p[:V](1)\n",
    "  else\n",
    "    star = nothing\n",
    "  end\n",
    "  view_LV(codom(p), pth; name=name, title=title, star=star)\n",
    "end\n",
    "function view_LV(p::LV′, pth=tempname(); name=\"G\", title=\"\", star=nothing)\n",
    "  pstr = [\"$(i),$(j)!\" for (i, j) in p[:coord]]\n",
    "  stmts = Statement[]\n",
    "  for s in 1:nv(p)\n",
    "    st = (star == (:V => s)) ? \"*\" : \"\"\n",
    "    gv = p[s, :grass_eng]\n",
    "    col = gv == 0 ? \"lightgreen\" : \"tan\"\n",
    "    push!(stmts, Node(\"v$s\", Attributes(\n",
    "      :label => gv == 0 ? \"\" : string(gv) * st,\n",
    "      :shape => \"circle\",\n",
    "      :color => col, :pos => pstr[s])))\n",
    "  end\n",
    "  d = Dict([:E => (1, 0), :N => (0, 1), :S => (0, -1), :W => (-1, 0),])\n",
    "\n",
    "  args = [(:true, :Wolf, :wolf_loc, :wolf_eng, :wolf_dir),\n",
    "    (false, :Sheep, :sheep_loc, :sheep_eng, :sheep_dir)]\n",
    "\n",
    "  for (is_wolf, prt, loc, eng, dr) in args\n",
    "    for w in parts(p, prt)\n",
    "      st = (star == ((is_wolf ? :Wolf : :Sheep) => w)) ? \"*\" : \"\"\n",
    "      e = only(incident(p, p[w, loc], :src) ∩ incident(p, p[w, dr], :dir))\n",
    "      s = src(p, e)\n",
    "      dx, dy = d[p[e, :dir]]\n",
    "      (sx, sy) = p[s, :coord]\n",
    "\n",
    "      L, R = 0.25, 0.1\n",
    "      wx = sx + L * dx + R * rand()\n",
    "      wy = sy + L * dy + R * rand()\n",
    "      ID = \"$(is_wolf ? :w : :s)$w\"\n",
    "      append!(stmts, [Node(ID, Attributes(\n",
    "        :label => \"$w\" * supscript(\"$(p[w,eng])\") * st,\n",
    "        :shape => \"square\", :width => \"0.3px\", :height => \"0.3px\", :fixedsize => \"true\",\n",
    "        :pos => \"$(wx),$(wy)!\", :color => is_wolf ? \"red\" : \"lightblue\"))])\n",
    "    end\n",
    "  end\n",
    "\n",
    "  g = Graphviz.Digraph(name, Statement[stmts...]; prog=\"neato\",\n",
    "    graph_attrs=Attributes(:label => title, :labelloc => \"t\"),\n",
    "    node_attrs=Attributes(:shape => \"plain\", :style => \"filled\"))\n",
    "  open(pth, \"w\") do io\n",
    "    show(io, \"image/svg+xml\", g)\n",
    "  end\n",
    "end\n",
    "\n",
    "i1 = initialize(2, 0.5, 0.5)"
   ],
   "metadata": {},
   "execution_count": 5
  },
  {
   "cell_type": "markdown",
   "source": [
    "# Rules"
   ],
   "metadata": {}
  },
  {
   "outputs": [],
   "cell_type": "code",
   "source": [
    "yLV = yoneda_cache(LV; clear=true);\n",
    "yLV = yoneda_cache(LV; clear=false);"
   ],
   "metadata": {},
   "execution_count": 6
  },
  {
   "cell_type": "markdown",
   "source": [
    "Empty agent type"
   ],
   "metadata": {}
  },
  {
   "outputs": [
    {
     "output_type": "execute_result",
     "data": {
      "text/plain": "Main.var\"##232\".LV_Generic{Symbol, Int64} {V:0, E:0, Sheep:0, Wolf:0, Dir:0, Eng:0}\n",
      "text/html": [
       "<div class=\"c-set\">\n",
       "<span class=\"c-set-summary\">Main.var\"##232\".LV_Generic{Symbol, Int64} {V:0, E:0, Sheep:0, Wolf:0, Dir:0, Eng:0}</span>\n",
       "</div>\n"
      ]
     },
     "metadata": {},
     "execution_count": 7
    }
   ],
   "cell_type": "code",
   "source": [
    "I = LV()"
   ],
   "metadata": {},
   "execution_count": 7
  },
  {
   "cell_type": "markdown",
   "source": [
    "Generic sheep agent"
   ],
   "metadata": {}
  },
  {
   "outputs": [
    {
     "output_type": "execute_result",
     "data": {
      "text/plain": "Main.var\"##232\".LV_Generic{Symbol, Int64} {V:1, E:0, Sheep:1, Wolf:0, Dir:1, Eng:2}\n┌───┬────────────┐\n│\u001b[1m V \u001b[0m│\u001b[1m  grass_eng \u001b[0m│\n├───┼────────────┤\n│\u001b[1m 1 \u001b[0m│ AttrVar(2) │\n└───┴────────────┘\n┌───────┬───────────┬────────────┬────────────┐\n│\u001b[1m Sheep \u001b[0m│\u001b[1m sheep_loc \u001b[0m│\u001b[1m  sheep_eng \u001b[0m│\u001b[1m  sheep_dir \u001b[0m│\n├───────┼───────────┼────────────┼────────────┤\n│\u001b[1m     1 \u001b[0m│         1 │ AttrVar(1) │ AttrVar(1) │\n└───────┴───────────┴────────────┴────────────┘\n",
      "text/html": [
       "<div class=\"c-set\">\n",
       "<span class=\"c-set-summary\">Main.var\"##232\".LV_Generic{Symbol, Int64} {V:1, E:0, Sheep:1, Wolf:0, Dir:1, Eng:2}</span>\n",
       "<table>\n",
       "  <thead>\n",
       "    <tr class = \"header headerLastRow\">\n",
       "      <th class = \"rowLabel\" style = \"font-weight: bold; text-align: right;\">V</th>\n",
       "      <th style = \"text-align: right;\">grass_eng</th>\n",
       "    </tr>\n",
       "  </thead>\n",
       "  <tbody>\n",
       "    <tr>\n",
       "      <td class = \"rowLabel\" style = \"font-weight: bold; text-align: right;\">1</td>\n",
       "      <td style = \"text-align: right;\">AttrVar(2)</td>\n",
       "    </tr>\n",
       "  </tbody>\n",
       "</table>\n",
       "<table>\n",
       "  <thead>\n",
       "    <tr class = \"header headerLastRow\">\n",
       "      <th class = \"rowLabel\" style = \"font-weight: bold; text-align: right;\">Sheep</th>\n",
       "      <th style = \"text-align: right;\">sheep_loc</th>\n",
       "      <th style = \"text-align: right;\">sheep_eng</th>\n",
       "      <th style = \"text-align: right;\">sheep_dir</th>\n",
       "    </tr>\n",
       "  </thead>\n",
       "  <tbody>\n",
       "    <tr>\n",
       "      <td class = \"rowLabel\" style = \"font-weight: bold; text-align: right;\">1</td>\n",
       "      <td style = \"text-align: right;\">1</td>\n",
       "      <td style = \"text-align: right;\">AttrVar(1)</td>\n",
       "      <td style = \"text-align: right;\">AttrVar(1)</td>\n",
       "    </tr>\n",
       "  </tbody>\n",
       "</table>\n",
       "</div>\n"
      ]
     },
     "metadata": {},
     "execution_count": 8
    }
   ],
   "cell_type": "code",
   "source": [
    "S = @acset_colim yLV begin\n",
    "  s::Sheep\n",
    "end"
   ],
   "metadata": {},
   "execution_count": 8
  },
  {
   "cell_type": "markdown",
   "source": [
    "Generic wolf agent"
   ],
   "metadata": {}
  },
  {
   "outputs": [
    {
     "output_type": "execute_result",
     "data": {
      "text/plain": "Main.var\"##232\".LV_Generic{Symbol, Int64} {V:1, E:0, Sheep:0, Wolf:1, Dir:1, Eng:2}\n┌───┬────────────┐\n│\u001b[1m V \u001b[0m│\u001b[1m  grass_eng \u001b[0m│\n├───┼────────────┤\n│\u001b[1m 1 \u001b[0m│ AttrVar(2) │\n└───┴────────────┘\n┌──────┬──────────┬────────────┬────────────┐\n│\u001b[1m Wolf \u001b[0m│\u001b[1m wolf_loc \u001b[0m│\u001b[1m   wolf_eng \u001b[0m│\u001b[1m   wolf_dir \u001b[0m│\n├──────┼──────────┼────────────┼────────────┤\n│\u001b[1m    1 \u001b[0m│        1 │ AttrVar(1) │ AttrVar(1) │\n└──────┴──────────┴────────────┴────────────┘\n",
      "text/html": [
       "<div class=\"c-set\">\n",
       "<span class=\"c-set-summary\">Main.var\"##232\".LV_Generic{Symbol, Int64} {V:1, E:0, Sheep:0, Wolf:1, Dir:1, Eng:2}</span>\n",
       "<table>\n",
       "  <thead>\n",
       "    <tr class = \"header headerLastRow\">\n",
       "      <th class = \"rowLabel\" style = \"font-weight: bold; text-align: right;\">V</th>\n",
       "      <th style = \"text-align: right;\">grass_eng</th>\n",
       "    </tr>\n",
       "  </thead>\n",
       "  <tbody>\n",
       "    <tr>\n",
       "      <td class = \"rowLabel\" style = \"font-weight: bold; text-align: right;\">1</td>\n",
       "      <td style = \"text-align: right;\">AttrVar(2)</td>\n",
       "    </tr>\n",
       "  </tbody>\n",
       "</table>\n",
       "<table>\n",
       "  <thead>\n",
       "    <tr class = \"header headerLastRow\">\n",
       "      <th class = \"rowLabel\" style = \"font-weight: bold; text-align: right;\">Wolf</th>\n",
       "      <th style = \"text-align: right;\">wolf_loc</th>\n",
       "      <th style = \"text-align: right;\">wolf_eng</th>\n",
       "      <th style = \"text-align: right;\">wolf_dir</th>\n",
       "    </tr>\n",
       "  </thead>\n",
       "  <tbody>\n",
       "    <tr>\n",
       "      <td class = \"rowLabel\" style = \"font-weight: bold; text-align: right;\">1</td>\n",
       "      <td style = \"text-align: right;\">1</td>\n",
       "      <td style = \"text-align: right;\">AttrVar(1)</td>\n",
       "      <td style = \"text-align: right;\">AttrVar(1)</td>\n",
       "    </tr>\n",
       "  </tbody>\n",
       "</table>\n",
       "</div>\n"
      ]
     },
     "metadata": {},
     "execution_count": 9
    }
   ],
   "cell_type": "code",
   "source": [
    "W = F(S)"
   ],
   "metadata": {},
   "execution_count": 9
  },
  {
   "cell_type": "markdown",
   "source": [
    "Generic grass agent"
   ],
   "metadata": {}
  },
  {
   "outputs": [],
   "cell_type": "code",
   "source": [
    "G = @acset_colim yLV begin\n",
    "  v::V\n",
    "end\n",
    "\n",
    "N = Names(Dict(\"W\" => W, \"S\" => S, \"G\" => G, \"\" => I));"
   ],
   "metadata": {},
   "execution_count": 10
  },
  {
   "cell_type": "markdown",
   "source": [
    "## Rotating"
   ],
   "metadata": {}
  },
  {
   "outputs": [
    {
     "output_type": "execute_result",
     "data": {
      "text/plain": "Schedule(WiringDiagram{AlgebraicRewriting.Schedules.Theories.ThTracedMonoidalWithBidiagonals.Meta.T}([Main.var\"##232\".LV_Generic{Symbol, Int64} {V:1, E:0, Sheep:1, Wolf:0, Dir:1, Eng:2}], [Main.var\"##232\".LV_Generic{Symbol, Int64} {V:1, E:0, Sheep:1, Wolf:0, Dir:1, Eng:2}], \n[ -2 => {inputs},\n  -1 => {outputs},\n  1 => Box(\"turn_right\", [Main.var\"##232\".LV_Generic{Symbol, Int64}:\n  V = 1:1\n  E = 1:0\n  Sheep = 1:1\n  Wolf = 1:0\n  Dir = 1:1\n  Eng = 1:2\n  src : E → V = Int64[]\n  tgt : E → V = Int64[]\n  sheep_loc : Sheep → V = [1]\n  wolf_loc : Wolf → V = Int64[]\n  grass_eng : V → Eng = ACSets.ColumnImplementations.AttrVar[ACSets.ColumnImplementations.AttrVar(2)]\n  sheep_eng : Sheep → Eng = ACSets.ColumnImplementations.AttrVar[ACSets.ColumnImplementations.AttrVar(1)]\n  wolf_eng : Wolf → Eng = Int64[]\n  sheep_dir : Sheep → Dir = ACSets.ColumnImplementations.AttrVar[ACSets.ColumnImplementations.AttrVar(1)]\n  wolf_dir : Wolf → Dir = Symbol[]\n  dir : E → Dir = Symbol[]], [Main.var\"##232\".LV_Generic{Symbol, Int64}:\n  V = 1:1\n  E = 1:0\n  Sheep = 1:1\n  Wolf = 1:0\n  Dir = 1:1\n  Eng = 1:2\n  src : E → V = Int64[]\n  tgt : E → V = Int64[]\n  sheep_loc : Sheep → V = [1]\n  wolf_loc : Wolf → V = Int64[]\n  grass_eng : V → Eng = ACSets.ColumnImplementations.AttrVar[ACSets.ColumnImplementations.AttrVar(2)]\n  sheep_eng : Sheep → Eng = ACSets.ColumnImplementations.AttrVar[ACSets.ColumnImplementations.AttrVar(1)]\n  wolf_eng : Wolf → Eng = Int64[]\n  sheep_dir : Sheep → Dir = ACSets.ColumnImplementations.AttrVar[ACSets.ColumnImplementations.AttrVar(1)]\n  wolf_dir : Wolf → Dir = Symbol[]\n  dir : E → Dir = Symbol[],Main.var\"##232\".LV_Generic{Symbol, Int64}:\n  V = 1:1\n  E = 1:0\n  Sheep = 1:1\n  Wolf = 1:0\n  Dir = 1:1\n  Eng = 1:2\n  src : E → V = Int64[]\n  tgt : E → V = Int64[]\n  sheep_loc : Sheep → V = [1]\n  wolf_loc : Wolf → V = Int64[]\n  grass_eng : V → Eng = ACSets.ColumnImplementations.AttrVar[ACSets.ColumnImplementations.AttrVar(2)]\n  sheep_eng : Sheep → Eng = ACSets.ColumnImplementations.AttrVar[ACSets.ColumnImplementations.AttrVar(1)]\n  wolf_eng : Wolf → Eng = Int64[]\n  sheep_dir : Sheep → Dir = ACSets.ColumnImplementations.AttrVar[ACSets.ColumnImplementations.AttrVar(1)]\n  wolf_dir : Wolf → Dir = Symbol[]\n  dir : E → Dir = Symbol[]]) ],\n[ Wire((-2,1) => (1,1)),\n  Wire((1,1) => (-1,1)),\n  Wire((1,2) => (-1,1)) ]), compose(turn_right,mmerge(Main.var\"##232\".LV_Generic{Symbol, Int64}:\n  V = 1:1\n  E = 1:0\n  Sheep = 1:1\n  Wolf = 1:0\n  Dir = 1:1\n  Eng = 1:2\n  src : E → V = Int64[]\n  tgt : E → V = Int64[]\n  sheep_loc : Sheep → V = [1]\n  wolf_loc : Wolf → V = Int64[]\n  grass_eng : V → Eng = ACSets.ColumnImplementations.AttrVar[ACSets.ColumnImplementations.AttrVar(2)]\n  sheep_eng : Sheep → Eng = ACSets.ColumnImplementations.AttrVar[ACSets.ColumnImplementations.AttrVar(1)]\n  wolf_eng : Wolf → Eng = Int64[]\n  sheep_dir : Sheep → Dir = ACSets.ColumnImplementations.AttrVar[ACSets.ColumnImplementations.AttrVar(1)]\n  wolf_dir : Wolf → Dir = Symbol[]\n  dir : E → Dir = Symbol[])))"
     },
     "metadata": {},
     "execution_count": 11
    }
   ],
   "cell_type": "code",
   "source": [
    "rl = Rule(id(S), id(S); expr=(Dir=[xs -> left(only(xs))],))\n",
    "rr = Rule(id(S), id(S); expr=(Dir=[xs -> right(only(xs))],))\n",
    "\n",
    "sheep_rotate_l = tryrule(RuleApp(:turn_left, rl, S))\n",
    "sheep_rotate_r = tryrule(RuleApp(:turn_right, rr, S))"
   ],
   "metadata": {},
   "execution_count": 11
  },
  {
   "cell_type": "markdown",
   "source": [
    "We can imagine executing these rules in sequence or in parallel"
   ],
   "metadata": {}
  },
  {
   "outputs": [
    {
     "output_type": "execute_result",
     "data": {
      "text/plain": "\u001b[32m\u001b[1mTest Passed\u001b[22m\u001b[39m"
     },
     "metadata": {},
     "execution_count": 12
    }
   ],
   "cell_type": "code",
   "source": [
    "seq_sched = (sheep_rotate_l ⋅ sheep_rotate_r)\n",
    "par_sched = (sheep_rotate_l ⊗ sheep_rotate_r)\n",
    "\n",
    "begin\n",
    "  ex = @acset_colim yLV begin\n",
    "    e::E\n",
    "    s::Sheep\n",
    "    sheep_loc(s) == src(e)\n",
    "    sheep_dir(s) == :N\n",
    "  end\n",
    "  expected = copy(ex)\n",
    "  expected[:sheep_dir] = :W\n",
    "  @test is_isomorphic(rewrite(rl, ex), expected)\n",
    "end"
   ],
   "metadata": {},
   "execution_count": 12
  },
  {
   "cell_type": "markdown",
   "source": [
    "## Moving forward"
   ],
   "metadata": {}
  },
  {
   "outputs": [
    {
     "output_type": "execute_result",
     "data": {
      "text/plain": "\u001b[32m\u001b[1mTest Passed\u001b[22m\u001b[39m"
     },
     "metadata": {},
     "execution_count": 13
    }
   ],
   "cell_type": "code",
   "source": [
    "s_fwd_l = @acset_colim yLV begin\n",
    "  e::E\n",
    "  s::Sheep\n",
    "  sheep_loc(s) == src(e)\n",
    "end\n",
    "s_fwd_i = @acset_colim yLV begin\n",
    "  e::E\n",
    "end\n",
    "s_fwd_r = @acset_colim yLV begin\n",
    "  e::E\n",
    "  s::Sheep\n",
    "  sheep_loc(s) == tgt(e)\n",
    "end\n",
    "s_n = @acset_colim yLV begin\n",
    "  e::E\n",
    "  s::Sheep\n",
    "  sheep_loc(s) == src(e)\n",
    "  sheep_eng(s) == 0\n",
    "end\n",
    "\n",
    "sheep_fwd_rule = Rule(\n",
    "  homomorphism(s_fwd_i, s_fwd_l; monic=true),\n",
    "  homomorphism(s_fwd_i, s_fwd_r; monic=true),\n",
    "  ac=[AppCond(homomorphism(s_fwd_l, s_n), false)],\n",
    "  expr=(Eng=Dict(3 => vs -> vs[3] - 1), Dir=Dict(2 => vs -> vs[2]))\n",
    ")\n",
    "\n",
    "sheep_fwd = tryrule(RuleApp(:move_fwd, sheep_fwd_rule,\n",
    "  homomorphism(S, s_fwd_l), homomorphism(S, s_fwd_r)))\n",
    "\n",
    "\n",
    "sheep_fwd_rule.L |> codom\n",
    "\n",
    "begin # test\n",
    "  ex = @acset_colim yLV begin\n",
    "    (e1, e2)::E\n",
    "    s::Sheep\n",
    "    sheep_loc(s) == tgt(e1)\n",
    "    tgt(e1) == src(e2)\n",
    "    sheep_dir(s) == :N\n",
    "    sheep_eng(s) == 10\n",
    "  end\n",
    "  expected = @acset_colim yLV begin\n",
    "    (e1, e2)::E\n",
    "    s::Sheep\n",
    "    sheep_loc(s) == tgt(e2)\n",
    "    tgt(e1) == src(e2)\n",
    "    sheep_dir(s) == :N\n",
    "    sheep_eng(s) == 9\n",
    "  end\n",
    "  @test is_isomorphic(expected, rewrite(sheep_fwd_rule, ex))\n",
    "end"
   ],
   "metadata": {},
   "execution_count": 13
  },
  {
   "cell_type": "markdown",
   "source": [
    "Eat grass + 4eng\n",
    "Grass is at 0 - meaning it's ready to be eaten"
   ],
   "metadata": {}
  },
  {
   "outputs": [
    {
     "output_type": "execute_result",
     "data": {
      "text/plain": "\u001b[32m\u001b[1mTest Passed\u001b[22m\u001b[39m"
     },
     "metadata": {},
     "execution_count": 14
    }
   ],
   "cell_type": "code",
   "source": [
    "s_eat_pac = @acset_colim yLV begin\n",
    "  s::Sheep\n",
    "  grass_eng(sheep_loc(s)) == 0\n",
    "end\n",
    "\n",
    "se_rule = Rule(id(S), id(S); expr=(Eng=[vs -> vs[1] + 4, vs -> 30],),\n",
    "  ac=[AppCond(homomorphism(S, s_eat_pac))])\n",
    "sheep_eat = tryrule(RuleApp(:Sheep_eat, se_rule, S))\n",
    "\n",
    "begin # test\n",
    "  ex = @acset_colim yLV begin\n",
    "    s::Sheep\n",
    "    e::E\n",
    "    sheep_loc(s) == tgt(e)\n",
    "    sheep_eng(s) == 3\n",
    "    grass_eng(tgt(e)) == 0\n",
    "    grass_eng(src(e)) == 10\n",
    "  end\n",
    "  expected = @acset_colim yLV begin\n",
    "    s::Sheep\n",
    "    e::E\n",
    "    sheep_loc(s) == tgt(e)\n",
    "    sheep_eng(s) == 7\n",
    "    grass_eng(tgt(e)) == 30\n",
    "    grass_eng(src(e)) == 10\n",
    "  end\n",
    "\n",
    "  @test is_isomorphic(expected, rewrite(se_rule, ex))\n",
    "end"
   ],
   "metadata": {},
   "execution_count": 14
  },
  {
   "cell_type": "markdown",
   "source": [
    "Eat sheep + 20 eng"
   ],
   "metadata": {}
  },
  {
   "outputs": [
    {
     "output_type": "execute_result",
     "data": {
      "text/plain": "Schedule(WiringDiagram{AlgebraicRewriting.Schedules.Theories.ThTracedMonoidalWithBidiagonals.Meta.T}([Main.var\"##232\".LV_Generic{Symbol, Int64} {V:1, E:0, Sheep:0, Wolf:1, Dir:1, Eng:2}], [Main.var\"##232\".LV_Generic{Symbol, Int64} {V:1, E:0, Sheep:0, Wolf:1, Dir:1, Eng:2}], \n[ -2 => {inputs},\n  -1 => {outputs},\n  1 => Box(\"Wolf_eat\", [Main.var\"##232\".LV_Generic{Symbol, Int64}:\n  V = 1:1\n  E = 1:0\n  Sheep = 1:0\n  Wolf = 1:1\n  Dir = 1:1\n  Eng = 1:2\n  src : E → V = Int64[]\n  tgt : E → V = Int64[]\n  sheep_loc : Sheep → V = Int64[]\n  wolf_loc : Wolf → V = [1]\n  grass_eng : V → Eng = ACSets.ColumnImplementations.AttrVar[ACSets.ColumnImplementations.AttrVar(2)]\n  sheep_eng : Sheep → Eng = Int64[]\n  wolf_eng : Wolf → Eng = ACSets.ColumnImplementations.AttrVar[ACSets.ColumnImplementations.AttrVar(1)]\n  sheep_dir : Sheep → Dir = Symbol[]\n  wolf_dir : Wolf → Dir = ACSets.ColumnImplementations.AttrVar[ACSets.ColumnImplementations.AttrVar(1)]\n  dir : E → Dir = Symbol[]], [Main.var\"##232\".LV_Generic{Symbol, Int64}:\n  V = 1:1\n  E = 1:0\n  Sheep = 1:0\n  Wolf = 1:1\n  Dir = 1:1\n  Eng = 1:2\n  src : E → V = Int64[]\n  tgt : E → V = Int64[]\n  sheep_loc : Sheep → V = Int64[]\n  wolf_loc : Wolf → V = [1]\n  grass_eng : V → Eng = ACSets.ColumnImplementations.AttrVar[ACSets.ColumnImplementations.AttrVar(2)]\n  sheep_eng : Sheep → Eng = Int64[]\n  wolf_eng : Wolf → Eng = ACSets.ColumnImplementations.AttrVar[ACSets.ColumnImplementations.AttrVar(1)]\n  sheep_dir : Sheep → Dir = Symbol[]\n  wolf_dir : Wolf → Dir = ACSets.ColumnImplementations.AttrVar[ACSets.ColumnImplementations.AttrVar(1)]\n  dir : E → Dir = Symbol[],Main.var\"##232\".LV_Generic{Symbol, Int64}:\n  V = 1:1\n  E = 1:0\n  Sheep = 1:0\n  Wolf = 1:1\n  Dir = 1:1\n  Eng = 1:2\n  src : E → V = Int64[]\n  tgt : E → V = Int64[]\n  sheep_loc : Sheep → V = Int64[]\n  wolf_loc : Wolf → V = [1]\n  grass_eng : V → Eng = ACSets.ColumnImplementations.AttrVar[ACSets.ColumnImplementations.AttrVar(2)]\n  sheep_eng : Sheep → Eng = Int64[]\n  wolf_eng : Wolf → Eng = ACSets.ColumnImplementations.AttrVar[ACSets.ColumnImplementations.AttrVar(1)]\n  sheep_dir : Sheep → Dir = Symbol[]\n  wolf_dir : Wolf → Dir = ACSets.ColumnImplementations.AttrVar[ACSets.ColumnImplementations.AttrVar(1)]\n  dir : E → Dir = Symbol[]]) ],\n[ Wire((-2,1) => (1,1)),\n  Wire((1,1) => (-1,1)),\n  Wire((1,2) => (-1,1)) ]), compose(Wolf_eat,mmerge(Main.var\"##232\".LV_Generic{Symbol, Int64}:\n  V = 1:1\n  E = 1:0\n  Sheep = 1:0\n  Wolf = 1:1\n  Dir = 1:1\n  Eng = 1:2\n  src : E → V = Int64[]\n  tgt : E → V = Int64[]\n  sheep_loc : Sheep → V = Int64[]\n  wolf_loc : Wolf → V = [1]\n  grass_eng : V → Eng = ACSets.ColumnImplementations.AttrVar[ACSets.ColumnImplementations.AttrVar(2)]\n  sheep_eng : Sheep → Eng = Int64[]\n  wolf_eng : Wolf → Eng = ACSets.ColumnImplementations.AttrVar[ACSets.ColumnImplementations.AttrVar(1)]\n  sheep_dir : Sheep → Dir = Symbol[]\n  wolf_dir : Wolf → Dir = ACSets.ColumnImplementations.AttrVar[ACSets.ColumnImplementations.AttrVar(1)]\n  dir : E → Dir = Symbol[])))"
     },
     "metadata": {},
     "execution_count": 15
    }
   ],
   "cell_type": "code",
   "source": [
    "w_eat_l = @acset_colim yLV begin\n",
    "  s::Sheep\n",
    "  w::Wolf\n",
    "  sheep_loc(s) == wolf_loc(w)\n",
    "end\n",
    "\n",
    "we_rule = Rule(homomorphism(W, w_eat_l), id(W); expr=(Eng=[vs -> vs[3] + 20, vs -> vs[1]],))\n",
    "wolf_eat = tryrule(RuleApp(:Wolf_eat, we_rule, W))"
   ],
   "metadata": {},
   "execution_count": 15
  },
  {
   "cell_type": "markdown",
   "source": [
    "### A test"
   ],
   "metadata": {}
  },
  {
   "outputs": [
    {
     "output_type": "execute_result",
     "data": {
      "text/plain": "\u001b[32m\u001b[1mTest Passed\u001b[22m\u001b[39m"
     },
     "metadata": {},
     "execution_count": 16
    }
   ],
   "cell_type": "code",
   "source": [
    "ex = @acset LV begin\n",
    "  Sheep = 1\n",
    "  Wolf = 1\n",
    "  V = 3\n",
    "  E = 2\n",
    "  src = [1, 2]\n",
    "  tgt = [2, 3]\n",
    "  sheep_loc = 2\n",
    "  sheep_eng = [3]\n",
    "  grass_eng = [9, 10, 11]\n",
    "  dir = fill(:N, 2)\n",
    "  sheep_dir = [:N]\n",
    "  wolf_loc = [2]\n",
    "  wolf_eng = [16]\n",
    "  wolf_dir = [:S]\n",
    "end\n",
    "expected = @acset LV begin\n",
    "  Wolf = 1\n",
    "  V = 3\n",
    "  E = 2\n",
    "  src = [1, 2]\n",
    "  tgt = [2, 3]\n",
    "  grass_eng = [9, 10, 11]\n",
    "  dir = fill(:N, 2)\n",
    "  sheep_dir = [:N]\n",
    "  wolf_loc = [2]\n",
    "  wolf_eng = [36]\n",
    "  wolf_dir = [:S]\n",
    "end\n",
    "@test is_isomorphic(rewrite(we_rule, ex), expected)"
   ],
   "metadata": {},
   "execution_count": 16
  },
  {
   "cell_type": "markdown",
   "source": [
    "Die if 0 eng"
   ],
   "metadata": {}
  },
  {
   "outputs": [
    {
     "output_type": "execute_result",
     "data": {
      "text/plain": "\u001b[32m\u001b[1mTest Passed\u001b[22m\u001b[39m"
     },
     "metadata": {},
     "execution_count": 17
    }
   ],
   "cell_type": "code",
   "source": [
    "s_die_l = @acset_colim yLV begin\n",
    "  s::Sheep\n",
    "  sheep_eng(s) == 0\n",
    "end\n",
    "\n",
    "sheep_die_rule = Rule(homomorphism(G, s_die_l), id(G))\n",
    "sheep_starve = (RuleApp(:starve, sheep_die_rule,\n",
    "  homomorphism(S, s_die_l), create(G))\n",
    "                ⋅\n",
    "                (id([I]) ⊗ Weaken(create(S))) ⋅ merge_wires(I))\n",
    "\n",
    "begin # test\n",
    "  ex = s_die_l ⊕ W\n",
    "  expected = G ⊕ W\n",
    "  @test is_isomorphic(rewrite(sheep_die_rule, ex), expected)\n",
    "end"
   ],
   "metadata": {},
   "execution_count": 17
  },
  {
   "cell_type": "markdown",
   "source": [
    "Reproduction"
   ],
   "metadata": {}
  },
  {
   "outputs": [
    {
     "output_type": "execute_result",
     "data": {
      "text/plain": "\u001b[32m\u001b[1mTest Passed\u001b[22m\u001b[39m"
     },
     "metadata": {},
     "execution_count": 18
    }
   ],
   "cell_type": "code",
   "source": [
    "s_reprod_r = @acset_colim yLV begin\n",
    "  (x, y)::Sheep\n",
    "  sheep_loc(x) == sheep_loc(y)\n",
    "end\n",
    "\n",
    "sheep_reprod_rule = Rule(\n",
    "  homomorphism(G, S),\n",
    "  homomorphism(G, s_reprod_r);\n",
    "  expr=(Dir=[vs -> vs[1], vs -> vs[1]], Eng=[vs -> vs[2],\n",
    "    fill(vs -> round(Int, vs[1] / 2, RoundUp), 2)...],)\n",
    ")\n",
    "\n",
    "sheep_reprod = RuleApp(:reproduce, sheep_reprod_rule,\n",
    "  id(S), homomorphism(S, s_reprod_r)) |> tryrule\n",
    "\n",
    "begin # test\n",
    "  ex = @acset_colim yLV begin\n",
    "    s::Sheep\n",
    "    w::Wolf\n",
    "    sheep_eng(s) == 10\n",
    "  end\n",
    "  expected = @acset_colim yLV begin\n",
    "    (s1, s2)::Sheep\n",
    "    w::Wolf\n",
    "    sheep_loc(s1) == sheep_loc(s2)\n",
    "    sheep_eng(s1) == 5\n",
    "    sheep_eng(s2) == 5\n",
    "  end\n",
    "  @test is_isomorphic(rewrite(sheep_reprod_rule, ex), expected)\n",
    "end"
   ],
   "metadata": {},
   "execution_count": 18
  },
  {
   "cell_type": "markdown",
   "source": [
    "Grass increment"
   ],
   "metadata": {}
  },
  {
   "outputs": [
    {
     "output_type": "execute_result",
     "data": {
      "text/plain": "\u001b[32m\u001b[1mTest Passed\u001b[22m\u001b[39m"
     },
     "metadata": {},
     "execution_count": 19
    }
   ],
   "cell_type": "code",
   "source": [
    "g_inc_n = deepcopy(G)\n",
    "set_subpart!(g_inc_n, 1, :grass_eng, 0)\n",
    "rem_part!(g_inc_n, :Eng, 1)\n",
    "\n",
    "g_inc_rule = Rule(id(G), id(G);\n",
    "  ac=[AppCond(homomorphism(G, g_inc_n), false)],\n",
    "  expr=(Eng=[vs -> only(vs) - 1],))\n",
    "g_inc = RuleApp(:GrassIncrements, g_inc_rule, G) |> tryrule\n",
    "\n",
    "\n",
    "ex = @acset LV begin\n",
    "  Sheep = 1\n",
    "  V = 3\n",
    "  E = 2\n",
    "  src = [1, 2]\n",
    "  tgt = [2, 3]\n",
    "  sheep_loc = 2\n",
    "  sheep_eng = [3]\n",
    "  grass_eng = [1, 10, 2]\n",
    "  dir = fill(:N, 2)\n",
    "  sheep_dir = [:N]\n",
    "end\n",
    "expected = @acset LV begin\n",
    "  Sheep = 1\n",
    "  V = 3\n",
    "  E = 2\n",
    "  src = [1, 2]\n",
    "  tgt = [2, 3]\n",
    "  sheep_loc = 2\n",
    "  sheep_eng = [3]\n",
    "  grass_eng = [0, 10, 2]\n",
    "  dir = fill(:N, 2)\n",
    "  sheep_dir = [:N]\n",
    "end\n",
    "@test is_isomorphic(rewrite(g_inc_rule, ex), expected)"
   ],
   "metadata": {},
   "execution_count": 19
  },
  {
   "cell_type": "markdown",
   "source": [
    "Scheduling Rules"
   ],
   "metadata": {}
  },
  {
   "outputs": [],
   "cell_type": "code",
   "source": [
    "general = mk_sched((;), (init=:S,), N, (\n",
    "    turn=const_cond([1.0, 2.0, 1.0], S; name=:turn),\n",
    "    maybe=const_cond([0.1, 0.9], S; name=:reprod),\n",
    "    lft=sheep_rotate_l,\n",
    "    rght=sheep_rotate_r,\n",
    "    fwd=sheep_fwd,\n",
    "    repro=sheep_reprod,\n",
    "    starve=sheep_starve),\n",
    "  quote\n",
    "    out_l, out_str, out_r = turn(init)\n",
    "    moved = fwd([lft(out_l), out_str, rght(out_r)])\n",
    "    out_repro, out_no_repro = maybe(moved)\n",
    "    return starve([repro(out_repro), out_no_repro])\n",
    "  end)\n",
    "\n",
    "sheep = sheep_eat ⋅ general;   # once per sheep\n",
    "wolf = wolf_eat ⋅ F(general);  # once per wolf"
   ],
   "metadata": {},
   "execution_count": 20
  },
  {
   "cell_type": "markdown",
   "source": [
    "Do all sheep, then all wolves, then all daily operations"
   ],
   "metadata": {}
  },
  {
   "outputs": [],
   "cell_type": "code",
   "source": [
    "cycle = (agent(sheep; n=:sheep, ret=I)\n",
    "         ⋅\n",
    "         agent(wolf; n=:wolves, ret=I)\n",
    "         ⋅\n",
    "         agent(g_inc; n=:grass))\n",
    "\n",
    "overall = while_schedule(cycle, curr -> nparts(curr, :Wolf) >= 0) |> F2  # wrap in a while loop\n",
    "\n",
    "X = initialize(3, 0.25, 0.25);\n",
    "res, = apply_schedule(overall, X; steps=50);"
   ],
   "metadata": {},
   "execution_count": 21
  }
 ],
 "nbformat_minor": 3,
 "metadata": {
  "language_info": {
   "file_extension": ".jl",
   "mimetype": "application/julia",
   "name": "julia",
   "version": "1.10.0"
  },
  "kernelspec": {
   "name": "julia-1.10",
   "display_name": "Julia 1.10.0",
   "language": "julia"
  }
 },
 "nbformat": 4
}
