{
 "cells": [
  {
   "cell_type": "markdown",
   "source": [
    "# Conway's Game of Life"
   ],
   "metadata": {}
  },
  {
   "outputs": [],
   "cell_type": "code",
   "source": [
    "using AlgebraicRewriting\n",
    "using Catlab, Catlab.Graphs, Catlab.CategoricalAlgebra, Catlab.Theories\n",
    "import Catlab.Graphics: to_graphviz\n",
    "using Catlab.Graphics.Graphviz: Attributes, Statement, Node, Edge, Digraph\n",
    "using PrettyTables\n",
    "using Luxor"
   ],
   "metadata": {},
   "execution_count": 1
  },
  {
   "cell_type": "markdown",
   "source": [
    "The game of life has two rules: one which turns living things dead, and one that brings dead things to life. We model the terrain as a symmetric graph: cells are vertices. Neighboring cells have edges between them.\n",
    "\n",
    "Implementation wise, if we are going to update cells one at a time, we must keep track of two bits of information (the cell's living status for the *current* timestep and whether it will be alive in the *next* timestep). Thus we need helper rule to overwrite the \"current\" life status with the \"next\" life status at the end of each timestep."
   ],
   "metadata": {}
  },
  {
   "cell_type": "markdown",
   "source": [
    "# Schema"
   ],
   "metadata": {}
  },
  {
   "cell_type": "markdown",
   "source": [
    "`curr` and `next` pick out subsets of V which are marked as currently alive or\n",
    "to be alive in the next timestep."
   ],
   "metadata": {}
  },
  {
   "outputs": [
    {
     "output_type": "execute_result",
     "data": {
      "text/plain": "Migrate(Dict(:Curr => :Curr, :V => :V, :Next => :Next, :E => :E), Dict(:src => :src, :next => :next, :curr => :curr, :tgt => :tgt, :inv => :inv), Main.var\"##228\".AbsLifeCoords{Tuple{Int64, Int64}}, Main.var\"##228\".AbsLifeCoords{Tuple{Int64, Int64}}, false)"
     },
     "metadata": {},
     "execution_count": 2
    }
   ],
   "cell_type": "code",
   "source": [
    "@present SchLife <: SchSymmetricGraph begin\n",
    "  (Curr, Next)::Ob\n",
    "  curr::Hom(Curr, V)\n",
    "  next::Hom(Next, V)\n",
    "end\n",
    "@present SchLifeCoords <: SchLife begin\n",
    "  Coords::AttrType\n",
    "  coords::Attr(V, Coords)\n",
    "end\n",
    "@acset_type Life(SchLife) <: AbstractSymmetricGraph\n",
    "@acset_type AbsLifeCoords(SchLifeCoords) <: AbstractSymmetricGraph\n",
    "const LifeCoords = AbsLifeCoords{Tuple{Int,Int}}\n",
    "F = Migrate(\n",
    "  Dict(x => x for x in Symbol.(generators(SchLife, :Ob))),\n",
    "  Dict(x => x for x in Symbol.(generators(SchLife, :Hom))), LifeCoords; delta=false)"
   ],
   "metadata": {},
   "execution_count": 2
  },
  {
   "cell_type": "markdown",
   "source": [
    "# Helper"
   ],
   "metadata": {}
  },
  {
   "cell_type": "markdown",
   "source": [
    "## Visualization"
   ],
   "metadata": {}
  },
  {
   "outputs": [
    {
     "output_type": "execute_result",
     "data": {
      "text/plain": "view_life (generic function with 6 methods)"
     },
     "metadata": {},
     "execution_count": 3
    }
   ],
   "cell_type": "code",
   "source": [
    "function view_life(f::ACSetTransformation, pth=tempname())\n",
    "  v = collect(f[:V])\n",
    "  view_life(codom(f), pth; star=isempty(v) ? nothing : only(v))\n",
    "end\n",
    "function view_life(X::Life, pth=tempname(); star=nothing)\n",
    "  pg = PropertyGraph{Any}(; prog=\"neato\", graph=Dict(),\n",
    "    node=Dict(:shape => \"circle\", :style => \"filled\", :margin => \"0\"),\n",
    "    edge=Dict(:dir => \"none\", :minlen => \"1\"))\n",
    "  add_vertices!(pg, nparts(X, :V))\n",
    "  for v in vertices(X)\n",
    "    set_vprop!(pg, v, :fillcolor, isempty(incident(X, v, :curr)) ? \"red\" : \"green\")\n",
    "    if !isempty(incident(X, v, :next))\n",
    "      set_vprop!(pg, v, :penwidth, \"4.0\")\n",
    "    end\n",
    "    set_vprop!(pg, v, :label, star == v ? \"*\" : \"\")\n",
    "  end\n",
    "  for e in filter(e -> X[e, :inv] > e, edges(X))\n",
    "    add_edge!(pg, X[e, :src], X[e, :tgt])\n",
    "  end\n",
    "  G = to_graphviz(pg)\n",
    "  open(pth, \"w\") do io\n",
    "    show(io, \"image/svg+xml\", G)\n",
    "  end\n",
    "  G\n",
    "end\n",
    "function view_life(X::LifeCoords, pth=tempname(); star=nothing)\n",
    "  n = Int(sqrt(nparts(X, :V)))\n",
    "  coords = Dict([(i, j) => findfirst(==((i, j)), X[:coords])\n",
    "                 for (i, j) in Iterators.product(1:n, 1:n)])\n",
    "  mat = pretty_table(String, reduce(hcat, map(1:n) do i\n",
    "      map(1:n) do j\n",
    "        c, x = [!isempty(incident(X, coords[(i, j)], x)) for x in [:curr, :next]]\n",
    "        res = c ? (x ? \"O\" : \"o\") : (x ? \"X\" : \"x\")\n",
    "        return res * ((star == coords[(i, j)]) ? \".\" : \"\")\n",
    "      end\n",
    "    end); show_header=false, tf=tf_markdown)\n",
    "  open(pth, \"w\") do io\n",
    "    write(io, mat)\n",
    "  end\n",
    "  return mat\n",
    "end"
   ],
   "metadata": {},
   "execution_count": 3
  },
  {
   "cell_type": "markdown",
   "source": [
    "## Constructions for Life ACSets / maps between them"
   ],
   "metadata": {}
  },
  {
   "outputs": [
    {
     "output_type": "execute_result",
     "data": {
      "text/plain": "Main.var\"##228\".living_neighbors"
     },
     "metadata": {},
     "execution_count": 4
    }
   ],
   "cell_type": "code",
   "source": [
    "Next() = @acset Life begin\n",
    "  V = 1\n",
    "  Next = 1\n",
    "  next = 1\n",
    "end\n",
    "Curr() = @acset Life begin\n",
    "  V = 1\n",
    "  Curr = 1\n",
    "  curr = 1\n",
    "end\n",
    "to_next() = homomorphism(Life(1), Next())\n",
    "to_curr() = homomorphism(Life(1), Curr())\n",
    "\n",
    "\"\"\"Construct a cell connected to n living neighbors\"\"\"\n",
    "function living_neighbors(n::Int; alive=false)\n",
    "  X = Life(1)\n",
    "  if alive\n",
    "    add_part!(X, :Curr, curr=1)\n",
    "  end\n",
    "  for _ in 1:n\n",
    "    v = add_part!(X, :V)\n",
    "    add_part!(X, :Curr, curr=v)\n",
    "    add_edge!(X, v, 1)\n",
    "  end\n",
    "  return X\n",
    "end"
   ],
   "metadata": {},
   "execution_count": 4
  },
  {
   "cell_type": "markdown",
   "source": [
    "## Initialization of LifeCoords"
   ],
   "metadata": {}
  },
  {
   "outputs": [
    {
     "output_type": "execute_result",
     "data": {
      "text/plain": "make_grid (generic function with 4 methods)"
     },
     "metadata": {},
     "execution_count": 5
    }
   ],
   "cell_type": "code",
   "source": [
    "function make_grid(curr::AbstractMatrix, next=nothing)\n",
    "  n, m = size(curr)\n",
    "  n == m || error(\"Must be square\")\n",
    "  X, coords = LifeCoords(), Dict()\n",
    "  for i in 1:n\n",
    "    for j in 1:n\n",
    "      coords[i=>j] = add_vertex!(X; coords=(i, j))\n",
    "      if Bool(curr[i, j])\n",
    "        add_part!(X, :Curr, curr=coords[i=>j])\n",
    "      end\n",
    "      if !isnothing(next) && Bool(next[i, j])\n",
    "        add_part!(X, :Curr, curr=coords[i=>j])\n",
    "      end\n",
    "    end\n",
    "  end\n",
    "  for i in 1:n\n",
    "    for j in 1:n\n",
    "      if i < n\n",
    "        add_edge!(X, coords[i=>j], coords[i+1=>j])\n",
    "      end\n",
    "      if j < n\n",
    "        add_edge!(X, coords[i=>j], coords[i=>j+1])\n",
    "      end\n",
    "      if i < n && j < n\n",
    "        add_edge!(X, coords[i=>j], coords[i+1=>j+1])\n",
    "      end\n",
    "      if i < n && j > 1\n",
    "        add_edge!(X, coords[i=>j], coords[i+1=>j-1])\n",
    "      end\n",
    "    end\n",
    "  end\n",
    "  return X\n",
    "end\n",
    "make_grid(n::Int, random=false) = make_grid((random ? rand : zeros)(Bool, (n, n)))"
   ],
   "metadata": {},
   "execution_count": 5
  },
  {
   "cell_type": "markdown",
   "source": [
    "# Rules"
   ],
   "metadata": {}
  },
  {
   "cell_type": "markdown",
   "source": [
    "A dead cell becomes alive iff exactly 3 living neighbors"
   ],
   "metadata": {}
  },
  {
   "outputs": [
    {
     "output_type": "execute_result",
     "data": {
      "text/plain": "Rule{:DPO}(ACSetTransformation((V = id(FinSet(1)), E = id(FinSet(0)), Curr = id(FinSet(0)), Next = id(FinSet(0))), Main.var\"##228\".Life {V:1, E:0, Curr:0, Next:0}, Main.var\"##228\".Life {V:1, E:0, Curr:0, Next:0}), ACSetTransformation((V = FinFunction([1], 1, 1), E = FinFunction(Int64[], 0, 0), Curr = FinFunction(Int64[], 0, 0), Next = FinFunction(Int64[], 0, 1)), Main.var\"##228\".Life {V:1, E:0, Curr:0, Next:0}, Main.var\"##228\".Life {V:1, E:0, Curr:0, Next:1}), Constraint[Constraint(CGraph:\n  V = 1:3\n  E = 1:3\n  VLabel = 1:0\n  ELabel = 1:0\n  src : E → V = [2, 1, 2]\n  tgt : E → V = [1, 3, 3]\n  vlabel : V → VLabel = Union{Nothing, Main.var\"##228\".Life}[Main.var\"##228\".Life:\n  V = 1:4\n  E = 1:6\n  Curr = 1:3\n  Next = 1:0\n  src : E → V = [2, 1, 3, 1, 4, 1]\n  tgt : E → V = [1, 2, 1, 3, 1, 4]\n  inv : E → E = [2, 1, 4, 3, 6, 5]\n  curr : Curr → V = [2, 3, 4]\n  next : Next → V = Int64[], Main.var\"##228\".Life:\n  V = 1:1\n  E = 1:0\n  Curr = 1:0\n  Next = 1:0\n  src : E → V = Int64[]\n  tgt : E → V = Int64[]\n  inv : E → E = Int64[]\n  curr : Curr → V = Int64[]\n  next : Next → V = Int64[], nothing]\n  elabel : E → ELabel = Any[ACSetTransformation((V = FinFunction([1], 1, 4), E = FinFunction(Int64[], 0, 6), Curr = FinFunction(Int64[], 0, 3), Next = FinFunction(Int64[], 0, 0)), Main.var\"##228\".Life {V:1, E:0, Curr:0, Next:0}, Main.var\"##228\".Life {V:4, E:6, Curr:3, Next:0}), nothing, 1], ∃2 (monic, ): (1⋅2 = 3)), Constraint(CGraph:\n  V = 1:3\n  E = 1:3\n  VLabel = 1:0\n  ELabel = 1:0\n  src : E → V = [2, 1, 2]\n  tgt : E → V = [1, 3, 3]\n  vlabel : V → VLabel = Union{Nothing, Main.var\"##228\".Life}[Main.var\"##228\".Life:\n  V = 1:5\n  E = 1:8\n  Curr = 1:4\n  Next = 1:0\n  src : E → V = [2, 1, 3, 1, 4, 1, 5, 1]\n  tgt : E → V = [1, 2, 1, 3, 1, 4, 1, 5]\n  inv : E → E = [2, 1, 4, 3, 6, 5, 8, 7]\n  curr : Curr → V = [2, 3, 4, 5]\n  next : Next → V = Int64[], Main.var\"##228\".Life:\n  V = 1:1\n  E = 1:0\n  Curr = 1:0\n  Next = 1:0\n  src : E → V = Int64[]\n  tgt : E → V = Int64[]\n  inv : E → E = Int64[]\n  curr : Curr → V = Int64[]\n  next : Next → V = Int64[], nothing]\n  elabel : E → ELabel = Any[ACSetTransformation((V = FinFunction([1], 1, 5), E = FinFunction(Int64[], 0, 8), Curr = FinFunction(Int64[], 0, 4), Next = FinFunction(Int64[], 0, 0)), Main.var\"##228\".Life {V:1, E:0, Curr:0, Next:0}, Main.var\"##228\".Life {V:5, E:8, Curr:4, Next:0}), nothing, 1], ¬∃2 (monic, ): (1⋅2 = 3)), Constraint(CGraph:\n  V = 1:3\n  E = 1:3\n  VLabel = 1:0\n  ELabel = 1:0\n  src : E → V = [2, 1, 2]\n  tgt : E → V = [1, 3, 3]\n  vlabel : V → VLabel = Union{Nothing, Main.var\"##228\".Life}[Main.var\"##228\".Life:\n  V = 1:1\n  E = 1:0\n  Curr = 1:1\n  Next = 1:0\n  src : E → V = Int64[]\n  tgt : E → V = Int64[]\n  inv : E → E = Int64[]\n  curr : Curr → V = [1]\n  next : Next → V = Int64[], Main.var\"##228\".Life:\n  V = 1:1\n  E = 1:0\n  Curr = 1:0\n  Next = 1:0\n  src : E → V = Int64[]\n  tgt : E → V = Int64[]\n  inv : E → E = Int64[]\n  curr : Curr → V = Int64[]\n  next : Next → V = Int64[], nothing]\n  elabel : E → ELabel = Any[ACSetTransformation((V = FinFunction([1], 1, 1), E = FinFunction(Int64[], 0, 0), Curr = FinFunction(Int64[], 0, 1), Next = FinFunction(Int64[], 0, 0)), Main.var\"##228\".Life {V:1, E:0, Curr:0, Next:0}, Main.var\"##228\".Life {V:1, E:0, Curr:1, Next:0}), nothing, 1], ¬∃2 (monic, ): (1⋅2 = 3))], false, Dict{Symbol, Dict{Int64, Union{Nothing, Function}}}())"
     },
     "metadata": {},
     "execution_count": 6
    }
   ],
   "cell_type": "code",
   "source": [
    "BirthP1 = living_neighbors(3) # must have 3 neighbors\n",
    "BirthN1 = living_neighbors(4) # forbid the cell to have 4 neighbors\n",
    "BirthN2 = Curr() # forbid the cell to be alive (i.e. it's currently dead)\n",
    "BP1, BN1, BN2 = homomorphism.(Ref(Life(1)), [BirthP1, BirthN1, BirthN2])\n",
    "bac = [AppCond(BP1; monic=true), AppCond.([BN1, BN2], false; monic=true)...]\n",
    "Birth = Rule(id(Life(1)), to_next(); ac=bac)"
   ],
   "metadata": {},
   "execution_count": 6
  },
  {
   "cell_type": "markdown",
   "source": [
    "A living cell stays alive iff 2 or 3 living neighbors"
   ],
   "metadata": {}
  },
  {
   "outputs": [
    {
     "output_type": "execute_result",
     "data": {
      "text/plain": "5-element Vector{Pair{Symbol, Rule{:DPO}}}:\n     :Birth => Rule{:DPO}(ACSetTransformation((V = id(FinSet(1)), E = id(FinSet(0)), Curr = id(FinSet(0)), Next = id(FinSet(0))), Main.var\"##228\".Life {V:1, E:0, Curr:0, Next:0}, Main.var\"##228\".Life {V:1, E:0, Curr:0, Next:0}), ACSetTransformation((V = FinFunction([1], 1, 1), E = FinFunction(Int64[], 0, 0), Curr = FinFunction(Int64[], 0, 0), Next = FinFunction(Int64[], 0, 1)), Main.var\"##228\".Life {V:1, E:0, Curr:0, Next:0}, Main.var\"##228\".Life {V:1, E:0, Curr:0, Next:1}), Constraint[Constraint(CGraph:\n  V = 1:3\n  E = 1:3\n  VLabel = 1:0\n  ELabel = 1:0\n  src : E → V = [2, 1, 2]\n  tgt : E → V = [1, 3, 3]\n  vlabel : V → VLabel = Union{Nothing, Main.var\"##228\".Life}[Main.var\"##228\".Life:\n  V = 1:4\n  E = 1:6\n  Curr = 1:3\n  Next = 1:0\n  src : E → V = [2, 1, 3, 1, 4, 1]\n  tgt : E → V = [1, 2, 1, 3, 1, 4]\n  inv : E → E = [2, 1, 4, 3, 6, 5]\n  curr : Curr → V = [2, 3, 4]\n  next : Next → V = Int64[], Main.var\"##228\".Life:\n  V = 1:1\n  E = 1:0\n  Curr = 1:0\n  Next = 1:0\n  src : E → V = Int64[]\n  tgt : E → V = Int64[]\n  inv : E → E = Int64[]\n  curr : Curr → V = Int64[]\n  next : Next → V = Int64[], nothing]\n  elabel : E → ELabel = Any[ACSetTransformation((V = FinFunction([1], 1, 4), E = FinFunction(Int64[], 0, 6), Curr = FinFunction(Int64[], 0, 3), Next = FinFunction(Int64[], 0, 0)), Main.var\"##228\".Life {V:1, E:0, Curr:0, Next:0}, Main.var\"##228\".Life {V:4, E:6, Curr:3, Next:0}), nothing, 1], ∃2 (monic, ): (1⋅2 = 3)), Constraint(CGraph:\n  V = 1:3\n  E = 1:3\n  VLabel = 1:0\n  ELabel = 1:0\n  src : E → V = [2, 1, 2]\n  tgt : E → V = [1, 3, 3]\n  vlabel : V → VLabel = Union{Nothing, Main.var\"##228\".Life}[Main.var\"##228\".Life:\n  V = 1:5\n  E = 1:8\n  Curr = 1:4\n  Next = 1:0\n  src : E → V = [2, 1, 3, 1, 4, 1, 5, 1]\n  tgt : E → V = [1, 2, 1, 3, 1, 4, 1, 5]\n  inv : E → E = [2, 1, 4, 3, 6, 5, 8, 7]\n  curr : Curr → V = [2, 3, 4, 5]\n  next : Next → V = Int64[], Main.var\"##228\".Life:\n  V = 1:1\n  E = 1:0\n  Curr = 1:0\n  Next = 1:0\n  src : E → V = Int64[]\n  tgt : E → V = Int64[]\n  inv : E → E = Int64[]\n  curr : Curr → V = Int64[]\n  next : Next → V = Int64[], nothing]\n  elabel : E → ELabel = Any[ACSetTransformation((V = FinFunction([1], 1, 5), E = FinFunction(Int64[], 0, 8), Curr = FinFunction(Int64[], 0, 4), Next = FinFunction(Int64[], 0, 0)), Main.var\"##228\".Life {V:1, E:0, Curr:0, Next:0}, Main.var\"##228\".Life {V:5, E:8, Curr:4, Next:0}), nothing, 1], ¬∃2 (monic, ): (1⋅2 = 3)), Constraint(CGraph:\n  V = 1:3\n  E = 1:3\n  VLabel = 1:0\n  ELabel = 1:0\n  src : E → V = [2, 1, 2]\n  tgt : E → V = [1, 3, 3]\n  vlabel : V → VLabel = Union{Nothing, Main.var\"##228\".Life}[Main.var\"##228\".Life:\n  V = 1:1\n  E = 1:0\n  Curr = 1:1\n  Next = 1:0\n  src : E → V = Int64[]\n  tgt : E → V = Int64[]\n  inv : E → E = Int64[]\n  curr : Curr → V = [1]\n  next : Next → V = Int64[], Main.var\"##228\".Life:\n  V = 1:1\n  E = 1:0\n  Curr = 1:0\n  Next = 1:0\n  src : E → V = Int64[]\n  tgt : E → V = Int64[]\n  inv : E → E = Int64[]\n  curr : Curr → V = Int64[]\n  next : Next → V = Int64[], nothing]\n  elabel : E → ELabel = Any[ACSetTransformation((V = FinFunction([1], 1, 1), E = FinFunction(Int64[], 0, 0), Curr = FinFunction(Int64[], 0, 1), Next = FinFunction(Int64[], 0, 0)), Main.var\"##228\".Life {V:1, E:0, Curr:0, Next:0}, Main.var\"##228\".Life {V:1, E:0, Curr:1, Next:0}), nothing, 1], ¬∃2 (monic, ): (1⋅2 = 3))], false, Dict{Symbol, Dict{Int64, Union{Nothing, Function}}}())\n   :Persist => Rule{:DPO}(ACSetTransformation((V = id(FinSet(1)), E = id(FinSet(0)), Curr = id(FinSet(1)), Next = id(FinSet(0))), Main.var\"##228\".Life {V:1, E:0, Curr:1, Next:0}, Main.var\"##228\".Life {V:1, E:0, Curr:1, Next:0}), ACSetTransformation((V = FinFunction([1], 1, 1), E = FinFunction(Int64[], 0, 0), Curr = FinFunction([1], 1, 1), Next = FinFunction(Int64[], 0, 1)), Main.var\"##228\".Life {V:1, E:0, Curr:1, Next:0}, Main.var\"##228\".Life {V:1, E:0, Curr:1, Next:1}), Constraint[Constraint(CGraph:\n  V = 1:3\n  E = 1:3\n  VLabel = 1:0\n  ELabel = 1:0\n  src : E → V = [2, 1, 2]\n  tgt : E → V = [1, 3, 3]\n  vlabel : V → VLabel = Union{Nothing, Main.var\"##228\".Life}[Main.var\"##228\".Life:\n  V = 1:3\n  E = 1:4\n  Curr = 1:3\n  Next = 1:0\n  src : E → V = [2, 1, 3, 1]\n  tgt : E → V = [1, 2, 1, 3]\n  inv : E → E = [2, 1, 4, 3]\n  curr : Curr → V = [1, 2, 3]\n  next : Next → V = Int64[], Main.var\"##228\".Life:\n  V = 1:1\n  E = 1:0\n  Curr = 1:1\n  Next = 1:0\n  src : E → V = Int64[]\n  tgt : E → V = Int64[]\n  inv : E → E = Int64[]\n  curr : Curr → V = [1]\n  next : Next → V = Int64[], nothing]\n  elabel : E → ELabel = Any[ACSetTransformation((V = FinFunction([1], 1, 3), E = FinFunction(Int64[], 0, 4), Curr = FinFunction([1], 1, 3), Next = FinFunction(Int64[], 0, 0)), Main.var\"##228\".Life {V:1, E:0, Curr:1, Next:0}, Main.var\"##228\".Life {V:3, E:4, Curr:3, Next:0}), nothing, 1], ∃2 (monic, ): (1⋅2 = 3)), Constraint(CGraph:\n  V = 1:3\n  E = 1:3\n  VLabel = 1:0\n  ELabel = 1:0\n  src : E → V = [2, 1, 2]\n  tgt : E → V = [1, 3, 3]\n  vlabel : V → VLabel = Union{Nothing, Main.var\"##228\".Life}[Main.var\"##228\".Life:\n  V = 1:5\n  E = 1:8\n  Curr = 1:5\n  Next = 1:0\n  src : E → V = [2, 1, 3, 1, 4, 1, 5, 1]\n  tgt : E → V = [1, 2, 1, 3, 1, 4, 1, 5]\n  inv : E → E = [2, 1, 4, 3, 6, 5, 8, 7]\n  curr : Curr → V = [1, 2, 3, 4, 5]\n  next : Next → V = Int64[], Main.var\"##228\".Life:\n  V = 1:1\n  E = 1:0\n  Curr = 1:1\n  Next = 1:0\n  src : E → V = Int64[]\n  tgt : E → V = Int64[]\n  inv : E → E = Int64[]\n  curr : Curr → V = [1]\n  next : Next → V = Int64[], nothing]\n  elabel : E → ELabel = Any[ACSetTransformation((V = FinFunction([1], 1, 5), E = FinFunction(Int64[], 0, 8), Curr = FinFunction([1], 1, 5), Next = FinFunction(Int64[], 0, 0)), Main.var\"##228\".Life {V:1, E:0, Curr:1, Next:0}, Main.var\"##228\".Life {V:5, E:8, Curr:5, Next:0}), nothing, 1], ¬∃2 (monic, ): (1⋅2 = 3))], false, Dict{Symbol, Dict{Int64, Union{Nothing, Function}}}())\n :ClearCurr => Rule{:DPO}(ACSetTransformation((V = FinFunction([1], 1, 1), E = FinFunction(Int64[], 0, 0), Curr = FinFunction(Int64[], 0, 1), Next = FinFunction(Int64[], 0, 0)), Main.var\"##228\".Life {V:1, E:0, Curr:0, Next:0}, Main.var\"##228\".Life {V:1, E:0, Curr:1, Next:0}), ACSetTransformation((V = id(FinSet(1)), E = id(FinSet(0)), Curr = id(FinSet(0)), Next = id(FinSet(0))), Main.var\"##228\".Life {V:1, E:0, Curr:0, Next:0}, Main.var\"##228\".Life {V:1, E:0, Curr:0, Next:0}), Constraint[], false, Dict{Symbol, Dict{Int64, Union{Nothing, Function}}}())\n :ClearNext => Rule{:DPO}(ACSetTransformation((V = FinFunction([1], 1, 1), E = FinFunction(Int64[], 0, 0), Curr = FinFunction(Int64[], 0, 0), Next = FinFunction(Int64[], 0, 1)), Main.var\"##228\".Life {V:1, E:0, Curr:0, Next:0}, Main.var\"##228\".Life {V:1, E:0, Curr:0, Next:1}), ACSetTransformation((V = id(FinSet(1)), E = id(FinSet(0)), Curr = id(FinSet(0)), Next = id(FinSet(0))), Main.var\"##228\".Life {V:1, E:0, Curr:0, Next:0}, Main.var\"##228\".Life {V:1, E:0, Curr:0, Next:0}), Constraint[], false, Dict{Symbol, Dict{Int64, Union{Nothing, Function}}}())\n  :CopyNext => Rule{:DPO}(ACSetTransformation((V = FinFunction([1], 1, 1), E = FinFunction(Int64[], 0, 0), Curr = FinFunction(Int64[], 0, 0), Next = FinFunction(Int64[], 0, 1)), Main.var\"##228\".Life {V:1, E:0, Curr:0, Next:0}, Main.var\"##228\".Life {V:1, E:0, Curr:0, Next:1}), ACSetTransformation((V = FinFunction([1], 1, 1), E = FinFunction(Int64[], 0, 0), Curr = FinFunction(Int64[], 0, 1), Next = FinFunction(Int64[], 0, 0)), Main.var\"##228\".Life {V:1, E:0, Curr:0, Next:0}, Main.var\"##228\".Life {V:1, E:0, Curr:1, Next:0}), Constraint[], false, Dict{Symbol, Dict{Int64, Union{Nothing, Function}}}())"
     },
     "metadata": {},
     "execution_count": 7
    }
   ],
   "cell_type": "code",
   "source": [
    "PersistR = @acset Life begin\n",
    "  V = 1\n",
    "  Curr = 1\n",
    "  Next = 1\n",
    "  curr = 1\n",
    "  next = 1\n",
    "end\n",
    "PersistP1 = living_neighbors(2; alive=true)\n",
    "PersistN1 = living_neighbors(4; alive=true)\n",
    "DR, DP1, DN1 = homomorphism.(Ref(Curr()), [PersistR, PersistP1, PersistN1])\n",
    "pac = [AppCond(DP1; monic=true), AppCond(DN1, false; monic=true)]\n",
    "Persist = Rule(id(Curr()), DR; ac=pac)\n",
    "\n",
    "ClearCurr = Rule(to_curr(), id(Life(1))) # remove \"Curr\" status\n",
    "ClearNext = Rule(to_next(), id(Life(1))) # remove \"Next\" status\n",
    "CopyNext = Rule(to_next(), to_curr())   # Copy \"Next\" to \"Curr\"\n",
    "\n",
    "rules = [:Birth => Birth, :Persist => Persist, :ClearCurr => ClearCurr,\n",
    "  :ClearNext => ClearNext, :CopyNext => CopyNext]"
   ],
   "metadata": {},
   "execution_count": 7
  },
  {
   "cell_type": "markdown",
   "source": [
    "# Schedule"
   ],
   "metadata": {}
  },
  {
   "cell_type": "markdown",
   "source": [
    "All rules have interface of a single distinguished cell.\n",
    "Never distinguish control flow of successful vs unsuccessful application"
   ],
   "metadata": {}
  },
  {
   "outputs": [
    {
     "output_type": "execute_result",
     "data": {
      "text/plain": "view_life (generic function with 7 methods)"
     },
     "metadata": {},
     "execution_count": 8
    }
   ],
   "cell_type": "code",
   "source": [
    "rBirth, rPersist, rClearCurr, rClearNext, rCopyNext =\n",
    "  [tryrule(RuleApp(n, r, Life(1))) for (n, r) in rules]\n",
    "\n",
    "update_next = agent(rBirth ⋅ rPersist, Life(1); n=:Cell)\n",
    "next_step = agent(compose(rClearCurr, rCopyNext, rClearNext), Life(1); n=:Cell)\n",
    "life(n::Int) = for_schedule(update_next ⋅ next_step, n) |> F\n",
    "const L1 = life(1)\n",
    "\n",
    "G = make_grid([1 0 1 0 1; 0 1 0 1 0; 0 1 0 1 0; 1 0 1 0 1; 1 0 1 0 1])\n",
    "\n",
    "res, = apply_schedule(L1, G; steps=1000)\n",
    "traj = last(res).edge.o.val\n",
    "\n",
    "view_life(i, traj) = view_life(traj.steps[i].world)"
   ],
   "metadata": {},
   "execution_count": 8
  },
  {
   "cell_type": "markdown",
   "source": [
    "view_traj(L1, res, view_life; agent=true)"
   ],
   "metadata": {}
  }
 ],
 "nbformat_minor": 3,
 "metadata": {
  "language_info": {
   "file_extension": ".jl",
   "mimetype": "application/julia",
   "name": "julia",
   "version": "1.10.0"
  },
  "kernelspec": {
   "name": "julia-1.10",
   "display_name": "Julia 1.10.0",
   "language": "julia"
  }
 },
 "nbformat": 4
}
