{
 "cells": [
  {
   "outputs": [
    {
     "name": "stdout",
     "output_type": "stream",
     "text": [
      "  Activating project at `~/Documents/Git/aaguinal.github.io/assets/slides/aaai-symposiumtalk-2023/julia`\n",
      "Precompiling project...\n",
      "\u001b[32m  ✓ \u001b[39m\u001b[90mInvertedIndices\u001b[39m\n",
      "\u001b[33m  ✓ \u001b[39m\u001b[90mPermutations\u001b[39m\n",
      "\u001b[32m  ✓ \u001b[39m\u001b[90mWorkerUtilities\u001b[39m\n",
      "\u001b[33m  ✓ \u001b[39m\u001b[90mCompat\u001b[39m\n",
      "\u001b[32m  ✓ \u001b[39m\u001b[90mPooledArrays\u001b[39m\n",
      "\u001b[33m  ✓ \u001b[39m\u001b[90mOrderedCollections\u001b[39m\n",
      "\u001b[33m  ✓ \u001b[39m\u001b[90mXML2_jll\u001b[39m\n",
      "\u001b[32m  ✓ \u001b[39m\u001b[90mInlineStrings\u001b[39m\n",
      "\u001b[33m  ✓ \u001b[39m\u001b[90mCompat → CompatLinearAlgebraExt\u001b[39m\n",
      "\u001b[32m  ✓ \u001b[39m\u001b[90mSentinelArrays\u001b[39m\n",
      "\u001b[33m  ✓ \u001b[39m\u001b[90mLightXML\u001b[39m\n",
      "\u001b[32m  ✓ \u001b[39m\u001b[90mWeakRefStrings\u001b[39m\n",
      "\u001b[32m  ✓ \u001b[39mCSV\n",
      "\u001b[33m  ✓ \u001b[39mPrettyTables\n",
      "\u001b[33m  ✓ \u001b[39mACSets\n",
      "\u001b[32m  ✓ \u001b[39mDataFrames\n",
      "\u001b[32m  ✓ \u001b[39m\u001b[90mCatlab → CatlabDataFramesExt\u001b[39m\n",
      "  17 dependencies successfully precompiled in 179 seconds. 52 already precompiled.\n",
      "  \u001b[33m8\u001b[39m dependencies precompiled but different versions are currently loaded. Restart julia to access the new versions\n"
     ]
    }
   ],
   "cell_type": "code",
   "source": [
    "using Pkg\n",
    "cd(\"/Users/aguinam1/Documents/Git/aaguinal.github.io/assets/slides/aaai-symposiumtalk-2023/julia\")  # use this environment to avoid `constructor` error\n",
    "Pkg.activate(\".\")\n",
    "Pkg.instantiate()\n",
    "using PrettyTables\n",
    "\n",
    "using Catlab\n",
    "using AlgebraicRewriting\n",
    "\n",
    "############################### SCHEMA ###############################"
   ],
   "metadata": {},
   "execution_count": 1
  },
  {
   "cell_type": "markdown",
   "source": [
    "Create an ontology by defining a finite presentation of a freely generated category using @present macro"
   ],
   "metadata": {}
  },
  {
   "cell_type": "markdown",
   "source": [
    "About the world: The Bread World Ontology has the types Thing, BreadLoaf, Countertop, and Stool. The Breadloaf, Countertop, and Stool types have morphisms to Thing that represent is-a relationships. The InOn type can be used to encode a set relation (as opposed to a function) that was two morphisms going to Thing. One morphism points out the LHS of the relation and the other morphism point out the RHS of the relation."
   ],
   "metadata": {}
  },
  {
   "outputs": [
    {
     "output_type": "execute_result",
     "data": {
      "text/plain": "Catlab.GATs.Presentations.Presentation{Catlab.Theories.ThSchema, Symbol}(Catlab.Theories.FreeSchema, (Ob = Catlab.Theories.FreeSchema.Ob{:generator}[Thing, BreadLoaf, Countertop, Stool, InOn], Hom = Catlab.Theories.FreeSchema.Hom{:generator}[BreadLoafIsThing, CountertopIsThing, StoolIsThing, inOn_l, inOn_r], AttrType = Catlab.Theories.FreeSchema.AttrType{:generator}[], Attr = Catlab.Theories.FreeSchema.Attr{:generator}[]), Dict(:inOn_r => (:Hom => 5), :CountertopIsThing => (:Hom => 2), :Countertop => (:Ob => 3), :BreadLoaf => (:Ob => 2), :Thing => (:Ob => 1), :BreadLoafIsThing => (:Hom => 1), :StoolIsThing => (:Hom => 3), :InOn => (:Ob => 5), :inOn_l => (:Hom => 4), :Stool => (:Ob => 4)…), Pair[])"
     },
     "metadata": {},
     "execution_count": 2
    }
   ],
   "cell_type": "code",
   "source": [
    "@present OntBreadWorld(FreeSchema) begin\n",
    "  Thing::Ob\n",
    "  BreadLoaf::Ob\n",
    "  Countertop::Ob\n",
    "  Stool::Ob\n",
    "\n",
    "  BreadLoafIsThing::Hom(BreadLoaf, Thing)  # is-a\n",
    "  CountertopIsThing::Hom(Countertop, Thing)  # is-a\n",
    "  StoolIsThing::Hom(Stool, Thing)  # is-a\n",
    "\n",
    "  InOn::Ob\n",
    "  inOn_l::Hom(InOn, Thing)\n",
    "  inOn_r::Hom(InOn, Thing)\n",
    "end"
   ],
   "metadata": {},
   "execution_count": 2
  },
  {
   "cell_type": "markdown",
   "source": [
    "Visualize the ontology"
   ],
   "metadata": {}
  },
  {
   "outputs": [
    {
     "output_type": "execute_result",
     "data": {
      "text/plain": "Catlab.Graphics.Graphviz.Graph(\"G\", true, \"neato\", Catlab.Graphics.Graphviz.Statement[Catlab.Graphics.Graphviz.Node(\"n1\", OrderedCollections.OrderedDict{Symbol, Union{String, Catlab.Graphics.Graphviz.Html}}(:label => \"Thing\")), Catlab.Graphics.Graphviz.Node(\"n2\", OrderedCollections.OrderedDict{Symbol, Union{String, Catlab.Graphics.Graphviz.Html}}(:label => \"BreadLoaf\")), Catlab.Graphics.Graphviz.Node(\"n3\", OrderedCollections.OrderedDict{Symbol, Union{String, Catlab.Graphics.Graphviz.Html}}(:label => \"Countertop\")), Catlab.Graphics.Graphviz.Node(\"n4\", OrderedCollections.OrderedDict{Symbol, Union{String, Catlab.Graphics.Graphviz.Html}}(:label => \"Stool\")), Catlab.Graphics.Graphviz.Node(\"n5\", OrderedCollections.OrderedDict{Symbol, Union{String, Catlab.Graphics.Graphviz.Html}}(:label => \"InOn\")), Catlab.Graphics.Graphviz.Edge(Catlab.Graphics.Graphviz.NodeID[Catlab.Graphics.Graphviz.NodeID(\"n2\", \"\", \"\"), Catlab.Graphics.Graphviz.NodeID(\"n1\", \"\", \"\")], OrderedCollections.OrderedDict{Symbol, Union{String, Catlab.Graphics.Graphviz.Html}}(:label => \"BreadLoafIsThing\")), Catlab.Graphics.Graphviz.Edge(Catlab.Graphics.Graphviz.NodeID[Catlab.Graphics.Graphviz.NodeID(\"n3\", \"\", \"\"), Catlab.Graphics.Graphviz.NodeID(\"n1\", \"\", \"\")], OrderedCollections.OrderedDict{Symbol, Union{String, Catlab.Graphics.Graphviz.Html}}(:label => \"CountertopIsThing\")), Catlab.Graphics.Graphviz.Edge(Catlab.Graphics.Graphviz.NodeID[Catlab.Graphics.Graphviz.NodeID(\"n4\", \"\", \"\"), Catlab.Graphics.Graphviz.NodeID(\"n1\", \"\", \"\")], OrderedCollections.OrderedDict{Symbol, Union{String, Catlab.Graphics.Graphviz.Html}}(:label => \"StoolIsThing\")), Catlab.Graphics.Graphviz.Edge(Catlab.Graphics.Graphviz.NodeID[Catlab.Graphics.Graphviz.NodeID(\"n5\", \"\", \"\"), Catlab.Graphics.Graphviz.NodeID(\"n1\", \"\", \"\")], OrderedCollections.OrderedDict{Symbol, Union{String, Catlab.Graphics.Graphviz.Html}}(:label => \"inOn_l\")), Catlab.Graphics.Graphviz.Edge(Catlab.Graphics.Graphviz.NodeID[Catlab.Graphics.Graphviz.NodeID(\"n5\", \"\", \"\"), Catlab.Graphics.Graphviz.NodeID(\"n1\", \"\", \"\")], OrderedCollections.OrderedDict{Symbol, Union{String, Catlab.Graphics.Graphviz.Html}}(:label => \"inOn_r\"))], OrderedCollections.OrderedDict{Symbol, Union{String, Catlab.Graphics.Graphviz.Html}}(), OrderedCollections.OrderedDict{Symbol, Union{String, Catlab.Graphics.Graphviz.Html}}(:margin => \"0\", :shape => \"ellipse\"), OrderedCollections.OrderedDict{Symbol, Union{String, Catlab.Graphics.Graphviz.Html}}())",
      "image/svg+xml": [
       "<?xml version=\"1.0\" encoding=\"UTF-8\" standalone=\"no\"?>\n",
       "<!DOCTYPE svg PUBLIC \"-//W3C//DTD SVG 1.1//EN\"\n",
       " \"http://www.w3.org/Graphics/SVG/1.1/DTD/svg11.dtd\">\n",
       "<!-- Generated by graphviz version 9.0.0 (20230911.1827)\n",
       " -->\n",
       "<!-- Title: G Pages: 1 -->\n",
       "<svg width=\"272pt\" height=\"177pt\"\n",
       " viewBox=\"0.00 0.00 272.20 176.97\" xmlns=\"http://www.w3.org/2000/svg\" xmlns:xlink=\"http://www.w3.org/1999/xlink\">\n",
       "<g id=\"graph0\" class=\"graph\" transform=\"scale(1 1) rotate(0) translate(4 172.97)\">\n",
       "<title>G</title>\n",
       "<polygon fill=\"white\" stroke=\"none\" points=\"-4,4 -4,-172.97 268.2,-172.97 268.2,4 -4,4\"/>\n",
       "<!-- n1 -->\n",
       "<g id=\"node1\" class=\"node\">\n",
       "<title>n1</title>\n",
       "<ellipse fill=\"none\" stroke=\"black\" cx=\"127.3\" cy=\"-84.66\" rx=\"27\" ry=\"18\"/>\n",
       "<text text-anchor=\"middle\" x=\"127.3\" y=\"-79.61\" font-family=\"Times,serif\" font-size=\"14.00\">Thing</text>\n",
       "</g>\n",
       "<!-- n2 -->\n",
       "<g id=\"node2\" class=\"node\">\n",
       "<title>n2</title>\n",
       "<ellipse fill=\"none\" stroke=\"black\" cx=\"193.98\" cy=\"-41.42\" rx=\"32.49\" ry=\"18\"/>\n",
       "<text text-anchor=\"middle\" x=\"193.98\" y=\"-36.37\" font-family=\"Times,serif\" font-size=\"14.00\">BreadLoaf</text>\n",
       "</g>\n",
       "<!-- n2&#45;&gt;n1 -->\n",
       "<g id=\"edge1\" class=\"edge\">\n",
       "<title>n2&#45;&gt;n1</title>\n",
       "<path fill=\"none\" stroke=\"black\" d=\"M172.51,-55.34C167.37,-58.67 161.8,-62.28 156.38,-65.8\"/>\n",
       "<polygon fill=\"black\" stroke=\"black\" points=\"154.67,-62.74 148.18,-71.11 158.48,-68.61 154.67,-62.74\"/>\n",
       "<text text-anchor=\"middle\" x=\"214.32\" y=\"-63.77\" font-family=\"Times,serif\" font-size=\"14.00\">BreadLoafIsThing</text>\n",
       "</g>\n",
       "<!-- n3 -->\n",
       "<g id=\"node3\" class=\"node\">\n",
       "<title>n3</title>\n",
       "<ellipse fill=\"none\" stroke=\"black\" cx=\"84.13\" cy=\"-18\" rx=\"34.18\" ry=\"18\"/>\n",
       "<text text-anchor=\"middle\" x=\"84.13\" y=\"-12.95\" font-family=\"Times,serif\" font-size=\"14.00\">Countertop</text>\n",
       "</g>\n",
       "<!-- n3&#45;&gt;n1 -->\n",
       "<g id=\"edge2\" class=\"edge\">\n",
       "<title>n3&#45;&gt;n1</title>\n",
       "<path fill=\"none\" stroke=\"black\" d=\"M95.25,-35.17C99.82,-42.22 105.21,-50.54 110.25,-58.33\"/>\n",
       "<polygon fill=\"black\" stroke=\"black\" points=\"107.17,-60.02 115.54,-66.51 113.05,-56.21 107.17,-60.02\"/>\n",
       "<text text-anchor=\"middle\" x=\"51.38\" y=\"-49.95\" font-family=\"Times,serif\" font-size=\"14.00\">CountertopIsThing</text>\n",
       "</g>\n",
       "<!-- n4 -->\n",
       "<g id=\"node4\" class=\"node\">\n",
       "<title>n4</title>\n",
       "<ellipse fill=\"none\" stroke=\"black\" cx=\"61.08\" cy=\"-128.51\" rx=\"27\" ry=\"18\"/>\n",
       "<text text-anchor=\"middle\" x=\"61.08\" y=\"-123.46\" font-family=\"Times,serif\" font-size=\"14.00\">Stool</text>\n",
       "</g>\n",
       "<!-- n4&#45;&gt;n1 -->\n",
       "<g id=\"edge3\" class=\"edge\">\n",
       "<title>n4&#45;&gt;n1</title>\n",
       "<path fill=\"none\" stroke=\"black\" d=\"M80.59,-115.59C86.29,-111.81 92.66,-107.6 98.8,-103.53\"/>\n",
       "<polygon fill=\"black\" stroke=\"black\" points=\"100.49,-106.61 106.89,-98.17 96.62,-100.77 100.49,-106.61\"/>\n",
       "<text text-anchor=\"middle\" x=\"54.44\" y=\"-96.26\" font-family=\"Times,serif\" font-size=\"14.00\">StoolIsThing</text>\n",
       "</g>\n",
       "<!-- n5 -->\n",
       "<g id=\"node5\" class=\"node\">\n",
       "<title>n5</title>\n",
       "<ellipse fill=\"none\" stroke=\"black\" cx=\"171.14\" cy=\"-150.97\" rx=\"27\" ry=\"18\"/>\n",
       "<text text-anchor=\"middle\" x=\"171.14\" y=\"-145.92\" font-family=\"Times,serif\" font-size=\"14.00\">InOn</text>\n",
       "</g>\n",
       "<!-- n5&#45;&gt;n1 -->\n",
       "<g id=\"edge4\" class=\"edge\">\n",
       "<title>n5&#45;&gt;n1</title>\n",
       "<path fill=\"none\" stroke=\"black\" d=\"M166.18,-133.1C162.15,-125.36 156.48,-116.23 150.68,-107.98\"/>\n",
       "<polygon fill=\"black\" stroke=\"black\" points=\"153.57,-105.99 144.8,-100.04 147.94,-110.16 153.57,-105.99\"/>\n",
       "<text text-anchor=\"middle\" x=\"139.68\" y=\"-107.24\" font-family=\"Times,serif\" font-size=\"14.00\">inOn_l</text>\n",
       "</g>\n",
       "<!-- n5&#45;&gt;n1 -->\n",
       "<g id=\"edge5\" class=\"edge\">\n",
       "<title>n5&#45;&gt;n1</title>\n",
       "<path fill=\"none\" stroke=\"black\" d=\"M154.34,-136.54C148.75,-129.41 142.75,-120.61 137.75,-112.28\"/>\n",
       "<polygon fill=\"black\" stroke=\"black\" points=\"140.93,-110.81 132.98,-103.81 134.83,-114.24 140.93,-110.81\"/>\n",
       "<text text-anchor=\"middle\" x=\"126.92\" y=\"-127.61\" font-family=\"Times,serif\" font-size=\"14.00\">inOn_r</text>\n",
       "</g>\n",
       "</g>\n",
       "</svg>\n"
      ]
     },
     "metadata": {},
     "execution_count": 3
    }
   ],
   "cell_type": "code",
   "source": [
    "to_graphviz(OntBreadWorld)"
   ],
   "metadata": {},
   "execution_count": 3
  },
  {
   "cell_type": "markdown",
   "source": [
    "Make the ontology an acset type"
   ],
   "metadata": {}
  },
  {
   "outputs": [
    {
     "output_type": "execute_result",
     "data": {
      "text/plain": "Main.var\"##392\".BreadWorld"
     },
     "metadata": {},
     "execution_count": 4
    }
   ],
   "cell_type": "code",
   "source": [
    "@acset_type BreadWorld(OntBreadWorld)\n",
    "\n",
    "############################### RULE ###############################"
   ],
   "metadata": {},
   "execution_count": 4
  },
  {
   "cell_type": "markdown",
   "source": [
    "Construct rule by defining a span in the category of ACSets"
   ],
   "metadata": {}
  },
  {
   "cell_type": "markdown",
   "source": [
    "Use the @acset macro to define an ACSet functor. The LHS refers to a type (or object) in our ontology and the RHS defines the set assignment using FinFunctions. For this, you need to completely specify the ACSet functor, i.e. every object and morphism in the index category must be specified."
   ],
   "metadata": {}
  },
  {
   "cell_type": "markdown",
   "source": [
    "About the rule: This rule moves a breadloaf from a countertop to a stool."
   ],
   "metadata": {}
  },
  {
   "cell_type": "markdown",
   "source": [
    "Left ACSet"
   ],
   "metadata": {}
  },
  {
   "outputs": [
    {
     "output_type": "execute_result",
     "data": {
      "text/plain": "Main.var\"##392\".BreadWorld {Thing:3, BreadLoaf:1, Countertop:1, Stool:1, InOn:1}\n┌───────────┬──────────────────┐\n│\u001b[1m BreadLoaf \u001b[0m│\u001b[1m BreadLoafIsThing \u001b[0m│\n├───────────┼──────────────────┤\n│\u001b[1m         1 \u001b[0m│                1 │\n└───────────┴──────────────────┘\n┌────────────┬───────────────────┐\n│\u001b[1m Countertop \u001b[0m│\u001b[1m CountertopIsThing \u001b[0m│\n├────────────┼───────────────────┤\n│\u001b[1m          1 \u001b[0m│                 2 │\n└────────────┴───────────────────┘\n┌───────┬──────────────┐\n│\u001b[1m Stool \u001b[0m│\u001b[1m StoolIsThing \u001b[0m│\n├───────┼──────────────┤\n│\u001b[1m     1 \u001b[0m│            3 │\n└───────┴──────────────┘\n┌──────┬────────┬────────┐\n│\u001b[1m InOn \u001b[0m│\u001b[1m inOn_l \u001b[0m│\u001b[1m inOn_r \u001b[0m│\n├──────┼────────┼────────┤\n│\u001b[1m    1 \u001b[0m│      1 │      2 │\n└──────┴────────┴────────┘\n",
      "text/html": [
       "<div class=\"c-set\">\n",
       "<span class=\"c-set-summary\">Main.var\"##392\".BreadWorld {Thing:3, BreadLoaf:1, Countertop:1, Stool:1, InOn:1}</span>\n",
       "<table>\n",
       "  <thead>\n",
       "    <tr class = \"header headerLastRow\">\n",
       "      <th class = \"rowLabel\" style = \"font-weight: bold; text-align: right;\">BreadLoaf</th>\n",
       "      <th style = \"text-align: right;\">BreadLoafIsThing</th>\n",
       "    </tr>\n",
       "  </thead>\n",
       "  <tbody>\n",
       "    <tr>\n",
       "      <td class = \"rowLabel\" style = \"font-weight: bold; text-align: right;\">1</td>\n",
       "      <td style = \"text-align: right;\">1</td>\n",
       "    </tr>\n",
       "  </tbody>\n",
       "</table>\n",
       "<table>\n",
       "  <thead>\n",
       "    <tr class = \"header headerLastRow\">\n",
       "      <th class = \"rowLabel\" style = \"font-weight: bold; text-align: right;\">Countertop</th>\n",
       "      <th style = \"text-align: right;\">CountertopIsThing</th>\n",
       "    </tr>\n",
       "  </thead>\n",
       "  <tbody>\n",
       "    <tr>\n",
       "      <td class = \"rowLabel\" style = \"font-weight: bold; text-align: right;\">1</td>\n",
       "      <td style = \"text-align: right;\">2</td>\n",
       "    </tr>\n",
       "  </tbody>\n",
       "</table>\n",
       "<table>\n",
       "  <thead>\n",
       "    <tr class = \"header headerLastRow\">\n",
       "      <th class = \"rowLabel\" style = \"font-weight: bold; text-align: right;\">Stool</th>\n",
       "      <th style = \"text-align: right;\">StoolIsThing</th>\n",
       "    </tr>\n",
       "  </thead>\n",
       "  <tbody>\n",
       "    <tr>\n",
       "      <td class = \"rowLabel\" style = \"font-weight: bold; text-align: right;\">1</td>\n",
       "      <td style = \"text-align: right;\">3</td>\n",
       "    </tr>\n",
       "  </tbody>\n",
       "</table>\n",
       "<table>\n",
       "  <thead>\n",
       "    <tr class = \"header headerLastRow\">\n",
       "      <th class = \"rowLabel\" style = \"font-weight: bold; text-align: right;\">InOn</th>\n",
       "      <th style = \"text-align: right;\">inOn_l</th>\n",
       "      <th style = \"text-align: right;\">inOn_r</th>\n",
       "    </tr>\n",
       "  </thead>\n",
       "  <tbody>\n",
       "    <tr>\n",
       "      <td class = \"rowLabel\" style = \"font-weight: bold; text-align: right;\">1</td>\n",
       "      <td style = \"text-align: right;\">1</td>\n",
       "      <td style = \"text-align: right;\">2</td>\n",
       "    </tr>\n",
       "  </tbody>\n",
       "</table>\n",
       "</div>\n"
      ]
     },
     "metadata": {},
     "execution_count": 5
    }
   ],
   "cell_type": "code",
   "source": [
    "L = @acset BreadWorld begin\n",
    "  Thing = 3\n",
    "  BreadLoaf = 1\n",
    "  Countertop = 1\n",
    "  Stool = 1\n",
    "\n",
    "  BreadLoafIsThing = [1]\n",
    "  CountertopIsThing = [2]\n",
    "  StoolIsThing = [3]\n",
    "\n",
    "  InOn = 1\n",
    "  inOn_l = [1]\n",
    "  inOn_r = [2]  # breadloaf is on the countertop\n",
    "end"
   ],
   "metadata": {},
   "execution_count": 5
  },
  {
   "cell_type": "markdown",
   "source": [
    "Middle/Keep ACSet\n",
    "The Thing, Breadloaf, Countertop, and Stool types should be held constant. The InOn type will change because we are changing the underlying set function."
   ],
   "metadata": {}
  },
  {
   "outputs": [
    {
     "output_type": "execute_result",
     "data": {
      "text/plain": "Main.var\"##392\".BreadWorld {Thing:3, BreadLoaf:1, Countertop:1, Stool:1, InOn:0}\n┌───────────┬──────────────────┐\n│\u001b[1m BreadLoaf \u001b[0m│\u001b[1m BreadLoafIsThing \u001b[0m│\n├───────────┼──────────────────┤\n│\u001b[1m         1 \u001b[0m│                0 │\n└───────────┴──────────────────┘\n┌────────────┬───────────────────┐\n│\u001b[1m Countertop \u001b[0m│\u001b[1m CountertopIsThing \u001b[0m│\n├────────────┼───────────────────┤\n│\u001b[1m          1 \u001b[0m│                 0 │\n└────────────┴───────────────────┘\n┌───────┬──────────────┐\n│\u001b[1m Stool \u001b[0m│\u001b[1m StoolIsThing \u001b[0m│\n├───────┼──────────────┤\n│\u001b[1m     1 \u001b[0m│            0 │\n└───────┴──────────────┘\n",
      "text/html": [
       "<div class=\"c-set\">\n",
       "<span class=\"c-set-summary\">Main.var\"##392\".BreadWorld {Thing:3, BreadLoaf:1, Countertop:1, Stool:1, InOn:0}</span>\n",
       "<table>\n",
       "  <thead>\n",
       "    <tr class = \"header headerLastRow\">\n",
       "      <th class = \"rowLabel\" style = \"font-weight: bold; text-align: right;\">BreadLoaf</th>\n",
       "      <th style = \"text-align: right;\">BreadLoafIsThing</th>\n",
       "    </tr>\n",
       "  </thead>\n",
       "  <tbody>\n",
       "    <tr>\n",
       "      <td class = \"rowLabel\" style = \"font-weight: bold; text-align: right;\">1</td>\n",
       "      <td style = \"text-align: right;\">0</td>\n",
       "    </tr>\n",
       "  </tbody>\n",
       "</table>\n",
       "<table>\n",
       "  <thead>\n",
       "    <tr class = \"header headerLastRow\">\n",
       "      <th class = \"rowLabel\" style = \"font-weight: bold; text-align: right;\">Countertop</th>\n",
       "      <th style = \"text-align: right;\">CountertopIsThing</th>\n",
       "    </tr>\n",
       "  </thead>\n",
       "  <tbody>\n",
       "    <tr>\n",
       "      <td class = \"rowLabel\" style = \"font-weight: bold; text-align: right;\">1</td>\n",
       "      <td style = \"text-align: right;\">0</td>\n",
       "    </tr>\n",
       "  </tbody>\n",
       "</table>\n",
       "<table>\n",
       "  <thead>\n",
       "    <tr class = \"header headerLastRow\">\n",
       "      <th class = \"rowLabel\" style = \"font-weight: bold; text-align: right;\">Stool</th>\n",
       "      <th style = \"text-align: right;\">StoolIsThing</th>\n",
       "    </tr>\n",
       "  </thead>\n",
       "  <tbody>\n",
       "    <tr>\n",
       "      <td class = \"rowLabel\" style = \"font-weight: bold; text-align: right;\">1</td>\n",
       "      <td style = \"text-align: right;\">0</td>\n",
       "    </tr>\n",
       "  </tbody>\n",
       "</table>\n",
       "</div>\n"
      ]
     },
     "metadata": {},
     "execution_count": 6
    }
   ],
   "cell_type": "code",
   "source": [
    "K = @acset BreadWorld begin\n",
    "  Thing = 3\n",
    "  BreadLoaf = 1\n",
    "  Countertop = 1\n",
    "  Stool = 1\n",
    "end"
   ],
   "metadata": {},
   "execution_count": 6
  },
  {
   "cell_type": "markdown",
   "source": [
    "Right ACSet"
   ],
   "metadata": {}
  },
  {
   "outputs": [
    {
     "output_type": "execute_result",
     "data": {
      "text/plain": "Main.var\"##392\".BreadWorld {Thing:3, BreadLoaf:1, Countertop:1, Stool:1, InOn:1}\n┌───────────┬──────────────────┐\n│\u001b[1m BreadLoaf \u001b[0m│\u001b[1m BreadLoafIsThing \u001b[0m│\n├───────────┼──────────────────┤\n│\u001b[1m         1 \u001b[0m│                1 │\n└───────────┴──────────────────┘\n┌────────────┬───────────────────┐\n│\u001b[1m Countertop \u001b[0m│\u001b[1m CountertopIsThing \u001b[0m│\n├────────────┼───────────────────┤\n│\u001b[1m          1 \u001b[0m│                 2 │\n└────────────┴───────────────────┘\n┌───────┬──────────────┐\n│\u001b[1m Stool \u001b[0m│\u001b[1m StoolIsThing \u001b[0m│\n├───────┼──────────────┤\n│\u001b[1m     1 \u001b[0m│            3 │\n└───────┴──────────────┘\n┌──────┬────────┬────────┐\n│\u001b[1m InOn \u001b[0m│\u001b[1m inOn_l \u001b[0m│\u001b[1m inOn_r \u001b[0m│\n├──────┼────────┼────────┤\n│\u001b[1m    1 \u001b[0m│      1 │      3 │\n└──────┴────────┴────────┘\n",
      "text/html": [
       "<div class=\"c-set\">\n",
       "<span class=\"c-set-summary\">Main.var\"##392\".BreadWorld {Thing:3, BreadLoaf:1, Countertop:1, Stool:1, InOn:1}</span>\n",
       "<table>\n",
       "  <thead>\n",
       "    <tr class = \"header headerLastRow\">\n",
       "      <th class = \"rowLabel\" style = \"font-weight: bold; text-align: right;\">BreadLoaf</th>\n",
       "      <th style = \"text-align: right;\">BreadLoafIsThing</th>\n",
       "    </tr>\n",
       "  </thead>\n",
       "  <tbody>\n",
       "    <tr>\n",
       "      <td class = \"rowLabel\" style = \"font-weight: bold; text-align: right;\">1</td>\n",
       "      <td style = \"text-align: right;\">1</td>\n",
       "    </tr>\n",
       "  </tbody>\n",
       "</table>\n",
       "<table>\n",
       "  <thead>\n",
       "    <tr class = \"header headerLastRow\">\n",
       "      <th class = \"rowLabel\" style = \"font-weight: bold; text-align: right;\">Countertop</th>\n",
       "      <th style = \"text-align: right;\">CountertopIsThing</th>\n",
       "    </tr>\n",
       "  </thead>\n",
       "  <tbody>\n",
       "    <tr>\n",
       "      <td class = \"rowLabel\" style = \"font-weight: bold; text-align: right;\">1</td>\n",
       "      <td style = \"text-align: right;\">2</td>\n",
       "    </tr>\n",
       "  </tbody>\n",
       "</table>\n",
       "<table>\n",
       "  <thead>\n",
       "    <tr class = \"header headerLastRow\">\n",
       "      <th class = \"rowLabel\" style = \"font-weight: bold; text-align: right;\">Stool</th>\n",
       "      <th style = \"text-align: right;\">StoolIsThing</th>\n",
       "    </tr>\n",
       "  </thead>\n",
       "  <tbody>\n",
       "    <tr>\n",
       "      <td class = \"rowLabel\" style = \"font-weight: bold; text-align: right;\">1</td>\n",
       "      <td style = \"text-align: right;\">3</td>\n",
       "    </tr>\n",
       "  </tbody>\n",
       "</table>\n",
       "<table>\n",
       "  <thead>\n",
       "    <tr class = \"header headerLastRow\">\n",
       "      <th class = \"rowLabel\" style = \"font-weight: bold; text-align: right;\">InOn</th>\n",
       "      <th style = \"text-align: right;\">inOn_l</th>\n",
       "      <th style = \"text-align: right;\">inOn_r</th>\n",
       "    </tr>\n",
       "  </thead>\n",
       "  <tbody>\n",
       "    <tr>\n",
       "      <td class = \"rowLabel\" style = \"font-weight: bold; text-align: right;\">1</td>\n",
       "      <td style = \"text-align: right;\">1</td>\n",
       "      <td style = \"text-align: right;\">3</td>\n",
       "    </tr>\n",
       "  </tbody>\n",
       "</table>\n",
       "</div>\n"
      ]
     },
     "metadata": {},
     "execution_count": 7
    }
   ],
   "cell_type": "code",
   "source": [
    "R = @acset BreadWorld begin\n",
    "  Thing = 3\n",
    "  BreadLoaf = 1\n",
    "  Countertop = 1\n",
    "  Stool = 1\n",
    "\n",
    "  BreadLoafIsThing = [1]\n",
    "  CountertopIsThing = [2]\n",
    "  StoolIsThing = [3]\n",
    "\n",
    "  InOn = 1\n",
    "  inOn_l = [1]\n",
    "  inOn_r = [3]  # breadloaf is on the stool\n",
    "end"
   ],
   "metadata": {},
   "execution_count": 7
  },
  {
   "cell_type": "markdown",
   "source": [
    "Left leg of span"
   ],
   "metadata": {}
  },
  {
   "outputs": [
    {
     "output_type": "execute_result",
     "data": {
      "text/plain": "ACSetTransformation((Thing = FinFunction([1, 2, 3], 3, 3), BreadLoaf = FinFunction([1], 1, 1), Countertop = FinFunction([1], 1, 1), Stool = FinFunction([1], 1, 1), InOn = FinFunction(1:0, 0, 1)), Main.var\"##392\".BreadWorld {Thing:3, BreadLoaf:1, Countertop:1, Stool:1, InOn:0}, Main.var\"##392\".BreadWorld {Thing:3, BreadLoaf:1, Countertop:1, Stool:1, InOn:1})"
     },
     "metadata": {},
     "execution_count": 8
    }
   ],
   "cell_type": "code",
   "source": [
    "l = ACSetTransformation(K, L, Thing=[1, 2, 3], BreadLoaf=[1], Countertop=[1], Stool=[1])"
   ],
   "metadata": {},
   "execution_count": 8
  },
  {
   "cell_type": "markdown",
   "source": [
    "Right leg of span"
   ],
   "metadata": {}
  },
  {
   "outputs": [
    {
     "output_type": "execute_result",
     "data": {
      "text/plain": "ACSetTransformation((Thing = FinFunction([1, 2, 3], 3, 3), BreadLoaf = FinFunction([1], 1, 1), Countertop = FinFunction([1], 1, 1), Stool = FinFunction([1], 1, 1), InOn = FinFunction(1:0, 0, 1)), Main.var\"##392\".BreadWorld {Thing:3, BreadLoaf:1, Countertop:1, Stool:1, InOn:0}, Main.var\"##392\".BreadWorld {Thing:3, BreadLoaf:1, Countertop:1, Stool:1, InOn:1})"
     },
     "metadata": {},
     "execution_count": 9
    }
   ],
   "cell_type": "code",
   "source": [
    "r = ACSetTransformation(K, R, Thing=[1, 2, 3], BreadLoaf=[1], Countertop=[1], Stool=[1])"
   ],
   "metadata": {},
   "execution_count": 9
  },
  {
   "cell_type": "markdown",
   "source": [
    "Use AlgebraicRewriting.Rule wrapper to add a rule interface"
   ],
   "metadata": {}
  },
  {
   "outputs": [
    {
     "output_type": "execute_result",
     "data": {
      "text/plain": "Rule{:DPO}(ACSetTransformation((Thing = FinFunction([1, 2, 3], 3, 3), BreadLoaf = FinFunction([1], 1, 1), Countertop = FinFunction([1], 1, 1), Stool = FinFunction([1], 1, 1), InOn = FinFunction(1:0, 0, 1)), Main.var\"##392\".BreadWorld {Thing:3, BreadLoaf:1, Countertop:1, Stool:1, InOn:0}, Main.var\"##392\".BreadWorld {Thing:3, BreadLoaf:1, Countertop:1, Stool:1, InOn:1}), ACSetTransformation((Thing = FinFunction([1, 2, 3], 3, 3), BreadLoaf = FinFunction([1], 1, 1), Countertop = FinFunction([1], 1, 1), Stool = FinFunction([1], 1, 1), InOn = FinFunction(1:0, 0, 1)), Main.var\"##392\".BreadWorld {Thing:3, BreadLoaf:1, Countertop:1, Stool:1, InOn:0}, Main.var\"##392\".BreadWorld {Thing:3, BreadLoaf:1, Countertop:1, Stool:1, InOn:1}), Constraint[], false, Dict{Symbol, Dict{Int64, Union{Nothing, Function}}}())"
     },
     "metadata": {},
     "execution_count": 10
    }
   ],
   "cell_type": "code",
   "source": [
    "moveBreadRule = Rule(l, r)\n",
    "\n",
    "############################### WORLD STATE ###############################"
   ],
   "metadata": {},
   "execution_count": 10
  },
  {
   "cell_type": "markdown",
   "source": [
    "Define a world state using the @acset macro. This is the ACSet way of specifying an ACSet. For this, you need to completely specify the ACSet functor, i.e. every object and morphism in the index category must be specified. The ACSets must be specified in terms of FinFunctions."
   ],
   "metadata": {}
  },
  {
   "cell_type": "markdown",
   "source": [
    "About the world state: In this world state, there are two countertops, one stool, and one breadloaf. All of these amount to four things. The breadloaf is on the first countertop."
   ],
   "metadata": {}
  },
  {
   "outputs": [
    {
     "output_type": "execute_result",
     "data": {
      "text/plain": "Main.var\"##392\".BreadWorld {Thing:4, BreadLoaf:1, Countertop:2, Stool:1, InOn:1}\n┌───────────┬──────────────────┐\n│\u001b[1m BreadLoaf \u001b[0m│\u001b[1m BreadLoafIsThing \u001b[0m│\n├───────────┼──────────────────┤\n│\u001b[1m         1 \u001b[0m│                1 │\n└───────────┴──────────────────┘\n┌────────────┬───────────────────┐\n│\u001b[1m Countertop \u001b[0m│\u001b[1m CountertopIsThing \u001b[0m│\n├────────────┼───────────────────┤\n│\u001b[1m          1 \u001b[0m│                 2 │\n│\u001b[1m          2 \u001b[0m│                 3 │\n└────────────┴───────────────────┘\n┌───────┬──────────────┐\n│\u001b[1m Stool \u001b[0m│\u001b[1m StoolIsThing \u001b[0m│\n├───────┼──────────────┤\n│\u001b[1m     1 \u001b[0m│            4 │\n└───────┴──────────────┘\n┌──────┬────────┬────────┐\n│\u001b[1m InOn \u001b[0m│\u001b[1m inOn_l \u001b[0m│\u001b[1m inOn_r \u001b[0m│\n├──────┼────────┼────────┤\n│\u001b[1m    1 \u001b[0m│      1 │      2 │\n└──────┴────────┴────────┘\n",
      "text/html": [
       "<div class=\"c-set\">\n",
       "<span class=\"c-set-summary\">Main.var\"##392\".BreadWorld {Thing:4, BreadLoaf:1, Countertop:2, Stool:1, InOn:1}</span>\n",
       "<table>\n",
       "  <thead>\n",
       "    <tr class = \"header headerLastRow\">\n",
       "      <th class = \"rowLabel\" style = \"font-weight: bold; text-align: right;\">BreadLoaf</th>\n",
       "      <th style = \"text-align: right;\">BreadLoafIsThing</th>\n",
       "    </tr>\n",
       "  </thead>\n",
       "  <tbody>\n",
       "    <tr>\n",
       "      <td class = \"rowLabel\" style = \"font-weight: bold; text-align: right;\">1</td>\n",
       "      <td style = \"text-align: right;\">1</td>\n",
       "    </tr>\n",
       "  </tbody>\n",
       "</table>\n",
       "<table>\n",
       "  <thead>\n",
       "    <tr class = \"header headerLastRow\">\n",
       "      <th class = \"rowLabel\" style = \"font-weight: bold; text-align: right;\">Countertop</th>\n",
       "      <th style = \"text-align: right;\">CountertopIsThing</th>\n",
       "    </tr>\n",
       "  </thead>\n",
       "  <tbody>\n",
       "    <tr>\n",
       "      <td class = \"rowLabel\" style = \"font-weight: bold; text-align: right;\">1</td>\n",
       "      <td style = \"text-align: right;\">2</td>\n",
       "    </tr>\n",
       "    <tr>\n",
       "      <td class = \"rowLabel\" style = \"font-weight: bold; text-align: right;\">2</td>\n",
       "      <td style = \"text-align: right;\">3</td>\n",
       "    </tr>\n",
       "  </tbody>\n",
       "</table>\n",
       "<table>\n",
       "  <thead>\n",
       "    <tr class = \"header headerLastRow\">\n",
       "      <th class = \"rowLabel\" style = \"font-weight: bold; text-align: right;\">Stool</th>\n",
       "      <th style = \"text-align: right;\">StoolIsThing</th>\n",
       "    </tr>\n",
       "  </thead>\n",
       "  <tbody>\n",
       "    <tr>\n",
       "      <td class = \"rowLabel\" style = \"font-weight: bold; text-align: right;\">1</td>\n",
       "      <td style = \"text-align: right;\">4</td>\n",
       "    </tr>\n",
       "  </tbody>\n",
       "</table>\n",
       "<table>\n",
       "  <thead>\n",
       "    <tr class = \"header headerLastRow\">\n",
       "      <th class = \"rowLabel\" style = \"font-weight: bold; text-align: right;\">InOn</th>\n",
       "      <th style = \"text-align: right;\">inOn_l</th>\n",
       "      <th style = \"text-align: right;\">inOn_r</th>\n",
       "    </tr>\n",
       "  </thead>\n",
       "  <tbody>\n",
       "    <tr>\n",
       "      <td class = \"rowLabel\" style = \"font-weight: bold; text-align: right;\">1</td>\n",
       "      <td style = \"text-align: right;\">1</td>\n",
       "      <td style = \"text-align: right;\">2</td>\n",
       "    </tr>\n",
       "  </tbody>\n",
       "</table>\n",
       "</div>\n"
      ]
     },
     "metadata": {},
     "execution_count": 11
    }
   ],
   "cell_type": "code",
   "source": [
    "state = @acset BreadWorld begin\n",
    "  Thing = 4\n",
    "  BreadLoaf = 1\n",
    "  Countertop = 2\n",
    "  Stool = 1\n",
    "\n",
    "  BreadLoafIsThing = [1]\n",
    "  CountertopIsThing = [2, 3] # there are two countertops\n",
    "  StoolIsThing = [4]\n",
    "\n",
    "  InOn = 1\n",
    "  inOn_l = [1]  # breadloaf is on the countertop 1\n",
    "  inOn_r = [2]\n",
    "end\n",
    "\n",
    "############################### APPLY RULE ###############################"
   ],
   "metadata": {},
   "execution_count": 11
  },
  {
   "cell_type": "markdown",
   "source": [
    "Use the AlgebraicRewriting.get_matches(::Rule{T}, ::ACSet) utility function to find matches between the rule and the state."
   ],
   "metadata": {}
  },
  {
   "outputs": [
    {
     "output_type": "execute_result",
     "data": {
      "text/plain": "1-element Vector{Any}:\n ACSetTransformation((Thing = FinFunction([1, 2, 4], 3, 4), BreadLoaf = FinFunction([1], 1, 1), Countertop = FinFunction([1], 1, 2), Stool = FinFunction([1], 1, 1), InOn = FinFunction([1], 1, 1)), Main.var\"##392\".BreadWorld {Thing:3, BreadLoaf:1, Countertop:1, Stool:1, InOn:1}, Main.var\"##392\".BreadWorld {Thing:4, BreadLoaf:1, Countertop:2, Stool:1, InOn:1})"
     },
     "metadata": {},
     "execution_count": 12
    }
   ],
   "cell_type": "code",
   "source": [
    "matches = get_matches(moveBreadRule, state)"
   ],
   "metadata": {},
   "execution_count": 12
  },
  {
   "cell_type": "markdown",
   "source": [
    "Take the first match"
   ],
   "metadata": {}
  },
  {
   "outputs": [
    {
     "output_type": "execute_result",
     "data": {
      "text/plain": "ACSetTransformation((Thing = FinFunction([1, 2, 4], 3, 4), BreadLoaf = FinFunction([1], 1, 1), Countertop = FinFunction([1], 1, 2), Stool = FinFunction([1], 1, 1), InOn = FinFunction([1], 1, 1)), Main.var\"##392\".BreadWorld {Thing:3, BreadLoaf:1, Countertop:1, Stool:1, InOn:1}, Main.var\"##392\".BreadWorld {Thing:4, BreadLoaf:1, Countertop:2, Stool:1, InOn:1})"
     },
     "metadata": {},
     "execution_count": 13
    }
   ],
   "cell_type": "code",
   "source": [
    "match = matches[1]"
   ],
   "metadata": {},
   "execution_count": 13
  },
  {
   "cell_type": "markdown",
   "source": [
    "Compute the new world state after rewriting"
   ],
   "metadata": {}
  },
  {
   "outputs": [
    {
     "output_type": "execute_result",
     "data": {
      "text/plain": "Main.var\"##392\".BreadWorld {Thing:4, BreadLoaf:1, Countertop:2, Stool:1, InOn:1}\n┌───────────┬──────────────────┐\n│\u001b[1m BreadLoaf \u001b[0m│\u001b[1m BreadLoafIsThing \u001b[0m│\n├───────────┼──────────────────┤\n│\u001b[1m         1 \u001b[0m│                1 │\n└───────────┴──────────────────┘\n┌────────────┬───────────────────┐\n│\u001b[1m Countertop \u001b[0m│\u001b[1m CountertopIsThing \u001b[0m│\n├────────────┼───────────────────┤\n│\u001b[1m          1 \u001b[0m│                 2 │\n│\u001b[1m          2 \u001b[0m│                 4 │\n└────────────┴───────────────────┘\n┌───────┬──────────────┐\n│\u001b[1m Stool \u001b[0m│\u001b[1m StoolIsThing \u001b[0m│\n├───────┼──────────────┤\n│\u001b[1m     1 \u001b[0m│            3 │\n└───────┴──────────────┘\n┌──────┬────────┬────────┐\n│\u001b[1m InOn \u001b[0m│\u001b[1m inOn_l \u001b[0m│\u001b[1m inOn_r \u001b[0m│\n├──────┼────────┼────────┤\n│\u001b[1m    1 \u001b[0m│      1 │      3 │\n└──────┴────────┴────────┘\n",
      "text/html": [
       "<div class=\"c-set\">\n",
       "<span class=\"c-set-summary\">Main.var\"##392\".BreadWorld {Thing:4, BreadLoaf:1, Countertop:2, Stool:1, InOn:1}</span>\n",
       "<table>\n",
       "  <thead>\n",
       "    <tr class = \"header headerLastRow\">\n",
       "      <th class = \"rowLabel\" style = \"font-weight: bold; text-align: right;\">BreadLoaf</th>\n",
       "      <th style = \"text-align: right;\">BreadLoafIsThing</th>\n",
       "    </tr>\n",
       "  </thead>\n",
       "  <tbody>\n",
       "    <tr>\n",
       "      <td class = \"rowLabel\" style = \"font-weight: bold; text-align: right;\">1</td>\n",
       "      <td style = \"text-align: right;\">1</td>\n",
       "    </tr>\n",
       "  </tbody>\n",
       "</table>\n",
       "<table>\n",
       "  <thead>\n",
       "    <tr class = \"header headerLastRow\">\n",
       "      <th class = \"rowLabel\" style = \"font-weight: bold; text-align: right;\">Countertop</th>\n",
       "      <th style = \"text-align: right;\">CountertopIsThing</th>\n",
       "    </tr>\n",
       "  </thead>\n",
       "  <tbody>\n",
       "    <tr>\n",
       "      <td class = \"rowLabel\" style = \"font-weight: bold; text-align: right;\">1</td>\n",
       "      <td style = \"text-align: right;\">2</td>\n",
       "    </tr>\n",
       "    <tr>\n",
       "      <td class = \"rowLabel\" style = \"font-weight: bold; text-align: right;\">2</td>\n",
       "      <td style = \"text-align: right;\">4</td>\n",
       "    </tr>\n",
       "  </tbody>\n",
       "</table>\n",
       "<table>\n",
       "  <thead>\n",
       "    <tr class = \"header headerLastRow\">\n",
       "      <th class = \"rowLabel\" style = \"font-weight: bold; text-align: right;\">Stool</th>\n",
       "      <th style = \"text-align: right;\">StoolIsThing</th>\n",
       "    </tr>\n",
       "  </thead>\n",
       "  <tbody>\n",
       "    <tr>\n",
       "      <td class = \"rowLabel\" style = \"font-weight: bold; text-align: right;\">1</td>\n",
       "      <td style = \"text-align: right;\">3</td>\n",
       "    </tr>\n",
       "  </tbody>\n",
       "</table>\n",
       "<table>\n",
       "  <thead>\n",
       "    <tr class = \"header headerLastRow\">\n",
       "      <th class = \"rowLabel\" style = \"font-weight: bold; text-align: right;\">InOn</th>\n",
       "      <th style = \"text-align: right;\">inOn_l</th>\n",
       "      <th style = \"text-align: right;\">inOn_r</th>\n",
       "    </tr>\n",
       "  </thead>\n",
       "  <tbody>\n",
       "    <tr>\n",
       "      <td class = \"rowLabel\" style = \"font-weight: bold; text-align: right;\">1</td>\n",
       "      <td style = \"text-align: right;\">1</td>\n",
       "      <td style = \"text-align: right;\">3</td>\n",
       "    </tr>\n",
       "  </tbody>\n",
       "</table>\n",
       "</div>\n"
      ]
     },
     "metadata": {},
     "execution_count": 14
    }
   ],
   "cell_type": "code",
   "source": [
    "new_state = rewrite_match(moveBreadRule, match)"
   ],
   "metadata": {},
   "execution_count": 14
  }
 ],
 "nbformat_minor": 3,
 "metadata": {
  "language_info": {
   "file_extension": ".jl",
   "mimetype": "application/julia",
   "name": "julia",
   "version": "1.9.4"
  },
  "kernelspec": {
   "name": "julia-1.9",
   "display_name": "Julia 1.9.4",
   "language": "julia"
  }
 },
 "nbformat": 4
}
